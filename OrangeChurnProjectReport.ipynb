{
 "cells": [
  {
   "cell_type": "markdown",
   "metadata": {},
   "source": [
    "# Прогнозирование оттока клиентов"
   ]
  },
  {
   "cell_type": "markdown",
   "metadata": {},
   "source": [
    "## 1. Введение."
   ]
  },
  {
   "cell_type": "markdown",
   "metadata": {},
   "source": [
    "### Описание проекта"
   ]
  },
  {
   "cell_type": "markdown",
   "metadata": {},
   "source": [
    "В этом проекте мы будем решать задачу прогнозирования оттока клиентов. Выстраивание взаимоотношений с клиентами или customer relationship managmenet (CRM) является важным звеном в функционировании любого бизнеса. От того, насколько хорошо простроена работа с аудиторией зачастую зависит успех всей компании. Суть задачи заключается в заблаговременном нахождении сегмента пользователей, склонных через некоторый промежуток времени отказаться от использования некоторого продукта или услуги. Точное и своевременное нахождение таких пользователей позволяет эффективно бороться с их оттоком, например, выявлять причины оттока и принимать меры по удержанию клиентов. Эта задача актуальна для большинства организаций, оказывающих услуги в сегменте B2C и вдвойне актуальна в областях, где распространение услуги близко к отметке 100%. Хороший пример такой области – рынок мобильной связи, где насыщение уже фактически произошло, и как следствие постепенно снижается прирост клиентской базы. В такой ситуации задача удержания клиентов и выстраивания с ними взаимоотношений выходит на первый план."
   ]
  },
  {
   "cell_type": "markdown",
   "metadata": {},
   "source": [
    "### Цель проекта"
   ]
  },
  {
   "cell_type": "markdown",
   "metadata": {},
   "source": [
    "Основная цель проекта - научиться определять пользователей, склонных к оттоку. \n",
    "\n",
    "Если заблаговременно находить таких пользователей, то можно эффективно управлять оттоком, а именно определять причины оттока и  проводить кампании по удержанию."
   ]
  },
  {
   "cell_type": "markdown",
   "metadata": {},
   "source": [
    "### Задачи проекта"
   ]
  },
  {
   "cell_type": "markdown",
   "metadata": {},
   "source": [
    "На основании цели проекта были поставлены следующие задачи:\n",
    "1. Исследовать имеющиеся данные, произвести их анализ и на основании результатов анализа подготовить признаки для построения модели.\n",
    "2. Определить оптимальные метрики для оценки качества будущей модели и подобрать оптимальный алгоритм на основе baseline - решения для дальнейшего построения модели.\n",
    "3. Выбрать оптимальную стратегию обработки исходных данных и подобрать оптимальные параметры выбранного алгоритма.\n",
    "4. Построить модель прогнозирования оттока и оценить качество модели, как на тренироочных, так и на тестовых данных.\n",
    "5. Оценить предполагаемый эконмический эффект от использования модели.\n",
    "6. Продумать возможность внедрения модели и ее автоматизации для применения на практике."
   ]
  },
  {
   "cell_type": "markdown",
   "metadata": {},
   "source": [
    "## 2. Техническая часть."
   ]
  },
  {
   "cell_type": "markdown",
   "metadata": {},
   "source": [
    "#### Импорт библиотек"
   ]
  },
  {
   "cell_type": "code",
   "execution_count": 100,
   "metadata": {
    "collapsed": true
   },
   "outputs": [],
   "source": [
    "# отключаем предупреждения Anaconda\n",
    "import warnings\n",
    "warnings.filterwarnings('ignore')\n",
    "import itertools\n",
    "# загружаем необходимые библиотеки\n",
    "import pandas as pd\n",
    "import numpy as np\n",
    "import scipy.stats as ss\n",
    "from sklearn.utils import shuffle\n",
    "import sklearn.metrics as sm\n",
    "import random\n",
    "import seaborn as sns\n",
    "import xgboost as xgb\n",
    "from statsmodels.stats.proportion import proportion_confint\n",
    "from sklearn.model_selection import GridSearchCV\n",
    "from sklearn.model_selection import train_test_split\n",
    "from sklearn.model_selection import StratifiedKFold\n",
    "from sklearn.model_selection import cross_val_score\n",
    "from sklearn.model_selection import learning_curve\n",
    "from sklearn.metrics import confusion_matrix\n",
    "from sklearn.metrics import classification_report\n",
    "from sklearn.preprocessing import LabelEncoder\n",
    "from sklearn.preprocessing import StandardScaler\n",
    "from sklearn.linear_model import LogisticRegression\n",
    "from sklearn.linear_model import LogisticRegressionCV\n",
    "from sklearn.linear_model import RidgeClassifier\n",
    "from sklearn.feature_selection import SelectKBest\n",
    "from sklearn.feature_selection import SelectFromModel\n",
    "from sklearn.ensemble import GradientBoostingClassifier\n",
    "from sklearn.ensemble import RandomForestClassifier\n",
    "import matplotlib.pyplot as plt\n",
    "%matplotlib inline\n",
    "# уберем ограничения на вывод максимального количества строк и столбцов (будет необходимо при просмотре загруженных данны в датасет)\n",
    "# pd.options.display.max_rows = None\n",
    "# pd.options.display.max_columns = None\n",
    "# включаем множественый вывод результата\n",
    "from IPython.core.interactiveshell import InteractiveShell\n",
    "InteractiveShell.ast_node_interactivity = 'all'"
   ]
  },
  {
   "cell_type": "markdown",
   "metadata": {},
   "source": [
    "### 2.1. Исследование исходных данных."
   ]
  },
  {
   "cell_type": "markdown",
   "metadata": {},
   "source": [
    "Данные были предоставлены французской телекоммуникационной компанией Orange. В задаче речь идет о клиентских данных, поэтому данные были предварительно обфусцированы и анонимизированны: из датасета убрана любая персональная информация, позволяющая идентифицировать пользователей, а также не представлены названия и описания переменных, предназначенных для построения прогнозов. Мы будем работать с набором данных orange small dataset. Он состоит из 40 тыс. объектов (32 тыс. - обучающий датасет, 8 тыс. - holdout датасет) и включает 230 переменных, из которых первые 190 переменных - числовые, и оставшиеся 40 переменные - категориальные."
   ]
  },
  {
   "cell_type": "markdown",
   "metadata": {},
   "source": [
    "#### Загрузим исходные данные. Выделим целевую переменную и данные для обучения."
   ]
  },
  {
   "cell_type": "code",
   "execution_count": 2,
   "metadata": {},
   "outputs": [
    {
     "data": {
      "text/plain": [
       "((32000, 230), (8000, 230), (32000,), (8000,))"
      ]
     },
     "execution_count": 2,
     "metadata": {},
     "output_type": "execute_result"
    }
   ],
   "source": [
    "train_data = pd.read_csv('churn_data_train.csv')\n",
    "test_data = pd.read_csv('churn_data_holdout.csv')\n",
    "labels_data_train = train_data['labels'].copy()\n",
    "labels_data_test = test_data['labels'].copy()\n",
    "train_data.drop(['labels'], axis = 1, inplace = True)\n",
    "test_data.drop(['labels'], axis = 1, inplace = True)\n",
    "train_data.shape, test_data.shape, labels_data_train.shape, labels_data_test.shape"
   ]
  },
  {
   "cell_type": "code",
   "execution_count": 3,
   "metadata": {
    "collapsed": true
   },
   "outputs": [],
   "source": [
    "numeric_features_data = train_data.columns[:190].tolist()\n",
    "categorial_features_data = train_data.columns[190:].tolist()\n",
    "train_data[numeric_features_data] = train_data[numeric_features_data].astype(float)\n",
    "test_data[numeric_features_data] = test_data[numeric_features_data].astype(float)\n",
    "train_data[categorial_features_data] = train_data[categorial_features_data].astype(object)\n",
    "test_data[categorial_features_data] = test_data[categorial_features_data].astype(object)"
   ]
  },
  {
   "cell_type": "code",
   "execution_count": 4,
   "metadata": {},
   "outputs": [
    {
     "name": "stdout",
     "output_type": "stream",
     "text": [
      "<class 'pandas.core.frame.DataFrame'>\n",
      "RangeIndex: 32000 entries, 0 to 31999\n",
      "Columns: 230 entries, Var1 to Var230\n",
      "dtypes: float64(190), object(40)\n",
      "memory usage: 56.2+ MB\n",
      "<class 'pandas.core.frame.DataFrame'>\n",
      "RangeIndex: 8000 entries, 0 to 7999\n",
      "Columns: 230 entries, Var1 to Var230\n",
      "dtypes: float64(190), object(40)\n",
      "memory usage: 14.0+ MB\n"
     ]
    }
   ],
   "source": [
    "train_data.info()\n",
    "test_data.info()"
   ]
  },
  {
   "cell_type": "markdown",
   "metadata": {},
   "source": [
    "#### Рассчитаем доли классов `отток` и `не отток`."
   ]
  },
  {
   "cell_type": "code",
   "execution_count": 5,
   "metadata": {},
   "outputs": [
    {
     "data": {
      "text/plain": [
       "2381"
      ]
     },
     "execution_count": 5,
     "metadata": {},
     "output_type": "execute_result"
    },
    {
     "data": {
      "text/plain": [
       "29619"
      ]
     },
     "execution_count": 5,
     "metadata": {},
     "output_type": "execute_result"
    }
   ],
   "source": [
    "churn_count = labels_data_train[labels_data_train == 1].shape[0]\n",
    "churn_count\n",
    "non_churn_count = labels_data_train[labels_data_train == -1].shape[0]\n",
    "non_churn_count"
   ]
  },
  {
   "cell_type": "code",
   "execution_count": 6,
   "metadata": {},
   "outputs": [
    {
     "data": {
      "text/plain": [
       "0.0744"
      ]
     },
     "execution_count": 6,
     "metadata": {},
     "output_type": "execute_result"
    },
    {
     "data": {
      "text/plain": [
       "0.9256"
      ]
     },
     "execution_count": 6,
     "metadata": {},
     "output_type": "execute_result"
    }
   ],
   "source": [
    "churn_portion = churn_count/ labels_data_train.shape[0]\n",
    "non_churn_portion = non_churn_count/ labels_data_train.shape[0]\n",
    "round(churn_portion,4)\n",
    "round(non_churn_portion,4)"
   ]
  },
  {
   "cell_type": "markdown",
   "metadata": {},
   "source": [
    "Видно, что классы в нашей выборке несбалансированы, гораздо больше пользователей соответсвующих классу `не отток`."
   ]
  },
  {
   "cell_type": "markdown",
   "metadata": {},
   "source": [
    "#### Рассчитаем корреляцию признаков с целевой переменной."
   ]
  },
  {
   "cell_type": "markdown",
   "metadata": {},
   "source": [
    "#### Корреляция вещественных признаков."
   ]
  },
  {
   "cell_type": "markdown",
   "metadata": {},
   "source": [
    "Рассчитаем меру взаимосвязи между каждым из вещественных признаков и целевой переменной (бинарный признак). \n",
    "Поскольку целевая переменная бинарная, то нам не подойдет расчет корреляции Пирсона (или любой другой) и нужно считать  разность математического ожидания вещественного признака при условии, что целевая переменная принимает значение 1 и математического ожидания вещественного признака при условии, что целевая переменная принимает значение -1."
   ]
  },
  {
   "cell_type": "markdown",
   "metadata": {},
   "source": [
    "В качестве меры связанности целевой переменной и признака будем пользоваться уровнем значимости гипотезы о том, что распределения признака для обоих классов совпадают. Уровень значимости гипотезы будем подсчитывать с использованием критерия Манна - Уитни."
   ]
  },
  {
   "cell_type": "markdown",
   "metadata": {},
   "source": [
    "Для начала заполним все пропущенные значения вещественных признаков на 0 (данный признак не будет давать вклад в модель)."
   ]
  },
  {
   "cell_type": "code",
   "execution_count": 8,
   "metadata": {},
   "outputs": [
    {
     "data": {
      "text/html": [
       "<div>\n",
       "<style scoped>\n",
       "    .dataframe tbody tr th:only-of-type {\n",
       "        vertical-align: middle;\n",
       "    }\n",
       "\n",
       "    .dataframe tbody tr th {\n",
       "        vertical-align: top;\n",
       "    }\n",
       "\n",
       "    .dataframe thead th {\n",
       "        text-align: right;\n",
       "    }\n",
       "</style>\n",
       "<table border=\"1\" class=\"dataframe\">\n",
       "  <thead>\n",
       "    <tr style=\"text-align: right;\">\n",
       "      <th></th>\n",
       "      <th>mean_diff</th>\n",
       "      <th>p_value</th>\n",
       "    </tr>\n",
       "  </thead>\n",
       "  <tbody>\n",
       "    <tr>\n",
       "      <th>Var189</th>\n",
       "      <td>41.126505</td>\n",
       "      <td>2.120687e-52</td>\n",
       "    </tr>\n",
       "    <tr>\n",
       "      <th>Var74</th>\n",
       "      <td>48.529692</td>\n",
       "      <td>2.447737e-52</td>\n",
       "    </tr>\n",
       "    <tr>\n",
       "      <th>Var13</th>\n",
       "      <td>453.945154</td>\n",
       "      <td>2.290238e-44</td>\n",
       "    </tr>\n",
       "    <tr>\n",
       "      <th>Var7</th>\n",
       "      <td>1.663922</td>\n",
       "      <td>2.061510e-40</td>\n",
       "    </tr>\n",
       "    <tr>\n",
       "      <th>Var140</th>\n",
       "      <td>467.107028</td>\n",
       "      <td>2.479551e-40</td>\n",
       "    </tr>\n",
       "  </tbody>\n",
       "</table>\n",
       "</div>"
      ],
      "text/plain": [
       "         mean_diff       p_value\n",
       "Var189   41.126505  2.120687e-52\n",
       "Var74    48.529692  2.447737e-52\n",
       "Var13   453.945154  2.290238e-44\n",
       "Var7      1.663922  2.061510e-40\n",
       "Var140  467.107028  2.479551e-40"
      ]
     },
     "execution_count": 8,
     "metadata": {},
     "output_type": "execute_result"
    }
   ],
   "source": [
    "diff_numeric = abs(train_data.loc[labels_data_train == 1, numeric_features_data].mean() - train_data.loc[labels_data_train == -1, numeric_features_data].mean())\n",
    "\n",
    "# проверим, значимо ли отличаются средние для обоих классов в каждом признаке\n",
    "p_values = list()\n",
    "for i, feat in enumerate(numeric_features_data):\n",
    "    label0 = train_data.loc[labels_data_train == -1, feat].dropna()\n",
    "    label1 = train_data.loc[labels_data_train == 1, feat].dropna()\n",
    "    if len(label0) < 10 or len(label1) < 10:\n",
    "        p_value = 1\n",
    "    else:\n",
    "        p_value = ss.mannwhitneyu(label0, label1)[1]\n",
    "    p_values.append(p_value)\n",
    "\n",
    "# Сохраним и отсортируем получившиеся разности матожиданий и достигаемые уровни значимости.\n",
    "mns_and_ps = pd.DataFrame({'mean_diff': diff_numeric, 'p_value': p_values}).sort_values('p_value')\n",
    "mns_and_ps.head()"
   ]
  },
  {
   "cell_type": "code",
   "execution_count": 9,
   "metadata": {
    "collapsed": true
   },
   "outputs": [],
   "source": [
    "result_numeric_features = list(mns_and_ps[mns_and_ps['p_value'] < 0.01].index)"
   ]
  },
  {
   "cell_type": "code",
   "execution_count": 10,
   "metadata": {},
   "outputs": [
    {
     "data": {
      "text/plain": [
       "28"
      ]
     },
     "execution_count": 10,
     "metadata": {},
     "output_type": "execute_result"
    }
   ],
   "source": [
    "len(result_numeric_features)"
   ]
  },
  {
   "cell_type": "markdown",
   "metadata": {},
   "source": [
    "Воспользовавшись критерием Манна-Уитни получили, что для 28 вещественных признаков была отвергнута нулевая гипотеза на уровне значимости 0.01, о том, что распределения признаков для обоих классов (`отток` и `не отток`) совпадают. "
   ]
  },
  {
   "cell_type": "markdown",
   "metadata": {},
   "source": [
    "#### Сделаем визуализацию данных для вещественных признаков ( Для примера рассмотрим топ 16 из 28 вещественных признаков, наиболее сильно коррелирующих с целевой переменной и для этих переменных построим распределения в разрезе классов и отобразим объекты в координатах пар признаков)."
   ]
  },
  {
   "cell_type": "code",
   "execution_count": 11,
   "metadata": {},
   "outputs": [
    {
     "data": {
      "image/png": "[encoded data removed]",
      "text/plain": [
       "<matplotlib.figure.Figure at 0x5a00388fd0>"
      ]
     },
     "metadata": {},
     "output_type": "display_data"
    }
   ],
   "source": [
    "fig, axes = plt.subplots(nrows=4, ncols=4, figsize=(20, 23))\n",
    "for idx, feature in enumerate(train_data[result_numeric_features[:16]]):\n",
    "    _ = train_data[feature][labels_data_train == 1].plot(kind=\"kde\", color = 'black', ax=axes[idx // 4, idx % 4], label = 'churn_lbl = 1', legend=True)\n",
    "    _ = train_data[feature][labels_data_train == -1].plot(kind=\"kde\", color = 'red', ax=axes[idx // 4, idx % 4], label = 'churn_lbl = -1', legend=True)"
   ]
  },
  {
   "cell_type": "markdown",
   "metadata": {},
   "source": [
    "Как дино из графика, отобранные по критерию вещественные признаки не имеют сущестенных отличий в разрезе классов. Посмотрим как выбранные признаки повлияют на качество будущей модели."
   ]
  },
  {
   "cell_type": "markdown",
   "metadata": {},
   "source": [
    "Сохраним датасет из наиболее значимых вещественных признаков для дальнейшего использования в построении модели."
   ]
  },
  {
   "cell_type": "code",
   "execution_count": 12,
   "metadata": {
    "collapsed": true
   },
   "outputs": [],
   "source": [
    "numeric_data_selected_train = train_data[result_numeric_features].copy()\n",
    "numeric_data_selected_test = test_data[result_numeric_features].copy()"
   ]
  },
  {
   "cell_type": "markdown",
   "metadata": {},
   "source": [
    "#### Корреляция категориальных переменных"
   ]
  },
  {
   "cell_type": "markdown",
   "metadata": {},
   "source": [
    "Рассчитаем меру взаимосвязи между каждым из категориальных признаков и целевой переменной (будем интерперетировать как категориальный признак с двумя значениями) с использованием коэффициента V Крамера. Не будем учитывать категориальные признаки с одним единственным значением признака,чтобы не получить нулевое значение в формуле для коэффициента V Крамера."
   ]
  },
  {
   "cell_type": "markdown",
   "metadata": {},
   "source": [
    "Значимость корреляции между категориальным признаком и целевой переменной проверим с использованием критерия Хи-квадрат."
   ]
  },
  {
   "cell_type": "markdown",
   "metadata": {},
   "source": [
    "Для расчета меры взаимосвязи категориальных признаков с целевой переменной заполним пропущенные значения категориальных признаков еще одной категорией `NA`."
   ]
  },
  {
   "cell_type": "code",
   "execution_count": 13,
   "metadata": {},
   "outputs": [
    {
     "data": {
      "text/html": [
       "<div>\n",
       "<style scoped>\n",
       "    .dataframe tbody tr th:only-of-type {\n",
       "        vertical-align: middle;\n",
       "    }\n",
       "\n",
       "    .dataframe tbody tr th {\n",
       "        vertical-align: top;\n",
       "    }\n",
       "\n",
       "    .dataframe thead th {\n",
       "        text-align: right;\n",
       "    }\n",
       "</style>\n",
       "<table border=\"1\" class=\"dataframe\">\n",
       "  <thead>\n",
       "    <tr style=\"text-align: right;\">\n",
       "      <th></th>\n",
       "      <th>Var191</th>\n",
       "      <th>Var192</th>\n",
       "      <th>Var193</th>\n",
       "      <th>Var194</th>\n",
       "      <th>Var195</th>\n",
       "      <th>Var196</th>\n",
       "      <th>Var197</th>\n",
       "      <th>Var198</th>\n",
       "      <th>Var199</th>\n",
       "      <th>Var200</th>\n",
       "      <th>...</th>\n",
       "      <th>Var221</th>\n",
       "      <th>Var222</th>\n",
       "      <th>Var223</th>\n",
       "      <th>Var224</th>\n",
       "      <th>Var225</th>\n",
       "      <th>Var226</th>\n",
       "      <th>Var227</th>\n",
       "      <th>Var228</th>\n",
       "      <th>Var229</th>\n",
       "      <th>Var230</th>\n",
       "    </tr>\n",
       "  </thead>\n",
       "  <tbody>\n",
       "    <tr>\n",
       "      <th>0</th>\n",
       "      <td>NA</td>\n",
       "      <td>eOQt0GoOh3</td>\n",
       "      <td>RO12</td>\n",
       "      <td>NA</td>\n",
       "      <td>taul</td>\n",
       "      <td>1K8T</td>\n",
       "      <td>0Xwj</td>\n",
       "      <td>jZ0kHY6</td>\n",
       "      <td>h3WsUQk</td>\n",
       "      <td>xlN46Gq</td>\n",
       "      <td>...</td>\n",
       "      <td>oslk</td>\n",
       "      <td>TZoq6Bf</td>\n",
       "      <td>NA</td>\n",
       "      <td>NA</td>\n",
       "      <td>ELof</td>\n",
       "      <td>Qu4f</td>\n",
       "      <td>RAYp</td>\n",
       "      <td>F2FyR07IdsN7I</td>\n",
       "      <td>mj86</td>\n",
       "      <td>NA</td>\n",
       "    </tr>\n",
       "    <tr>\n",
       "      <th>1</th>\n",
       "      <td>NA</td>\n",
       "      <td>yaKt0Go8Lb</td>\n",
       "      <td>RO12</td>\n",
       "      <td>NA</td>\n",
       "      <td>taul</td>\n",
       "      <td>1K8T</td>\n",
       "      <td>lK27</td>\n",
       "      <td>a5zOfm0</td>\n",
       "      <td>daiGnRstPa</td>\n",
       "      <td>DlIsyEk</td>\n",
       "      <td>...</td>\n",
       "      <td>oslk</td>\n",
       "      <td>zccO8fW</td>\n",
       "      <td>jySVZNlOJy</td>\n",
       "      <td>NA</td>\n",
       "      <td>ELof</td>\n",
       "      <td>Qu4f</td>\n",
       "      <td>RAYp</td>\n",
       "      <td>F2FyR07IdsN7I</td>\n",
       "      <td>am7c</td>\n",
       "      <td>NA</td>\n",
       "    </tr>\n",
       "    <tr>\n",
       "      <th>2</th>\n",
       "      <td>NA</td>\n",
       "      <td>6m0t0G8rTN</td>\n",
       "      <td>RO12</td>\n",
       "      <td>NA</td>\n",
       "      <td>taul</td>\n",
       "      <td>1K8T</td>\n",
       "      <td>Uk76</td>\n",
       "      <td>cmPnuwV</td>\n",
       "      <td>k2w937Sptb8I4AR_</td>\n",
       "      <td>NA</td>\n",
       "      <td>...</td>\n",
       "      <td>oslk</td>\n",
       "      <td>_JxAGfT</td>\n",
       "      <td>LM8l689qOp</td>\n",
       "      <td>NA</td>\n",
       "      <td>NA</td>\n",
       "      <td>fKCe</td>\n",
       "      <td>RAYp</td>\n",
       "      <td>F2FyR07IdsN7I</td>\n",
       "      <td>NA</td>\n",
       "      <td>NA</td>\n",
       "    </tr>\n",
       "    <tr>\n",
       "      <th>3</th>\n",
       "      <td>NA</td>\n",
       "      <td>EsYq9aX0Db</td>\n",
       "      <td>RO12</td>\n",
       "      <td>NA</td>\n",
       "      <td>LfvqpCtLOY</td>\n",
       "      <td>1K8T</td>\n",
       "      <td>4fje</td>\n",
       "      <td>gRirkF8</td>\n",
       "      <td>UFIZdCX</td>\n",
       "      <td>NA</td>\n",
       "      <td>...</td>\n",
       "      <td>oslk</td>\n",
       "      <td>OTXAgOW</td>\n",
       "      <td>NA</td>\n",
       "      <td>NA</td>\n",
       "      <td>NA</td>\n",
       "      <td>uWr3</td>\n",
       "      <td>RAYp</td>\n",
       "      <td>F2FyR07IdsN7I</td>\n",
       "      <td>NA</td>\n",
       "      <td>NA</td>\n",
       "    </tr>\n",
       "    <tr>\n",
       "      <th>4</th>\n",
       "      <td>NA</td>\n",
       "      <td>6m0t0G8rTN</td>\n",
       "      <td>RO12</td>\n",
       "      <td>NA</td>\n",
       "      <td>taul</td>\n",
       "      <td>1K8T</td>\n",
       "      <td>lK27</td>\n",
       "      <td>B884X3H</td>\n",
       "      <td>k10MzgT</td>\n",
       "      <td>jhoTHnw</td>\n",
       "      <td>...</td>\n",
       "      <td>oslk</td>\n",
       "      <td>bTV7qqc</td>\n",
       "      <td>LM8l689qOp</td>\n",
       "      <td>NA</td>\n",
       "      <td>ELof</td>\n",
       "      <td>fKCe</td>\n",
       "      <td>RAYp</td>\n",
       "      <td>F2FyR07IdsN7I</td>\n",
       "      <td>NA</td>\n",
       "      <td>NA</td>\n",
       "    </tr>\n",
       "  </tbody>\n",
       "</table>\n",
       "<p>5 rows × 40 columns</p>\n",
       "</div>"
      ],
      "text/plain": [
       "  Var191      Var192 Var193 Var194      Var195 Var196 Var197   Var198  \\\n",
       "0     NA  eOQt0GoOh3   RO12     NA        taul   1K8T   0Xwj  jZ0kHY6   \n",
       "1     NA  yaKt0Go8Lb   RO12     NA        taul   1K8T   lK27  a5zOfm0   \n",
       "2     NA  6m0t0G8rTN   RO12     NA        taul   1K8T   Uk76  cmPnuwV   \n",
       "3     NA  EsYq9aX0Db   RO12     NA  LfvqpCtLOY   1K8T   4fje  gRirkF8   \n",
       "4     NA  6m0t0G8rTN   RO12     NA        taul   1K8T   lK27  B884X3H   \n",
       "\n",
       "             Var199   Var200  ... Var221   Var222      Var223 Var224 Var225  \\\n",
       "0           h3WsUQk  xlN46Gq  ...   oslk  TZoq6Bf          NA     NA   ELof   \n",
       "1        daiGnRstPa  DlIsyEk  ...   oslk  zccO8fW  jySVZNlOJy     NA   ELof   \n",
       "2  k2w937Sptb8I4AR_       NA  ...   oslk  _JxAGfT  LM8l689qOp     NA     NA   \n",
       "3           UFIZdCX       NA  ...   oslk  OTXAgOW          NA     NA     NA   \n",
       "4           k10MzgT  jhoTHnw  ...   oslk  bTV7qqc  LM8l689qOp     NA   ELof   \n",
       "\n",
       "  Var226 Var227         Var228 Var229 Var230  \n",
       "0   Qu4f   RAYp  F2FyR07IdsN7I   mj86     NA  \n",
       "1   Qu4f   RAYp  F2FyR07IdsN7I   am7c     NA  \n",
       "2   fKCe   RAYp  F2FyR07IdsN7I     NA     NA  \n",
       "3   uWr3   RAYp  F2FyR07IdsN7I     NA     NA  \n",
       "4   fKCe   RAYp  F2FyR07IdsN7I     NA     NA  \n",
       "\n",
       "[5 rows x 40 columns]"
      ]
     },
     "execution_count": 13,
     "metadata": {},
     "output_type": "execute_result"
    }
   ],
   "source": [
    "categorial_dataset = train_data[categorial_features_data].copy()\n",
    "categorial_dataset = categorial_dataset.fillna('NA').astype(str)\n",
    "categorial_dataset.head()"
   ]
  },
  {
   "cell_type": "code",
   "execution_count": 14,
   "metadata": {
    "collapsed": true
   },
   "outputs": [],
   "source": [
    "def cramers_corr(conf_matr):\n",
    "    chi2 = ss.chi2_contingency(conf_matr)[0]\n",
    "    n = conf_matr.sum().sum()\n",
    "    phi2 = chi2/n\n",
    "    r,k = conf_matr.shape\n",
    "    phi2corr = max(0, phi2 - ((k-1)*(r-1))/(n-1))    \n",
    "    rcorr = r - ((r-1)**2)/(n-1)\n",
    "    kcorr = k - ((k-1)**2)/(n-1)\n",
    "    return np.sqrt(phi2corr / min( (kcorr-1), (rcorr-1)))"
   ]
  },
  {
   "cell_type": "code",
   "execution_count": 15,
   "metadata": {},
   "outputs": [
    {
     "name": "stdout",
     "output_type": "stream",
     "text": [
      "Wall time: 1min 3s\n",
      "Compiler : 198 ms\n"
     ]
    }
   ],
   "source": [
    "%%time\n",
    "categorial_corr_list = []\n",
    "for one_categiorial_column in categorial_dataset:\n",
    "    one_categiorial_column = categorial_dataset[one_categiorial_column]\n",
    "    number_of_categories = one_categiorial_column.unique()\n",
    "    categorial_column_name = one_categiorial_column.name\n",
    "    if len(number_of_categories) >= 2:\n",
    "        confusion_matrix = pd.crosstab(labels_data_train, one_categiorial_column)\n",
    "        p_val = ss.chi2_contingency(confusion_matrix)[1]\n",
    "        categorial_corr_value = cramers_corr(confusion_matrix)\n",
    "        categorial_corr_list.append((p_val, categorial_corr_value, categorial_column_name))"
   ]
  },
  {
   "cell_type": "code",
   "execution_count": 16,
   "metadata": {},
   "outputs": [
    {
     "data": {
      "text/plain": [
       "[(1.0, 0.0, 'Var214'),\n",
       " (1.0, 0.0, 'Var200'),\n",
       " (0.9999999999974138, 0.0, 'Var217'),\n",
       " (0.9999979764948201, 0.0, 'Var222'),\n",
       " (0.9999979764948201, 0.0, 'Var220'),\n",
       " (0.9999979764948201, 0.0, 'Var198'),\n",
       " (0.9980185486932373, 0.0, 'Var202'),\n",
       " (0.48103480458416714, 0.0, 'Var215'),\n",
       " (0.4506146016280207, 0.0, 'Var196'),\n",
       " (0.42833938120957726, 0.0, 'Var203')]"
      ]
     },
     "execution_count": 16,
     "metadata": {},
     "output_type": "execute_result"
    }
   ],
   "source": [
    "categorial_corr_list = sorted(categorial_corr_list, reverse=True)\n",
    "categorial_corr_list[:10]"
   ]
  },
  {
   "cell_type": "code",
   "execution_count": 17,
   "metadata": {},
   "outputs": [
    {
     "data": {
      "text/plain": [
       "22"
      ]
     },
     "execution_count": 17,
     "metadata": {},
     "output_type": "execute_result"
    }
   ],
   "source": [
    "result_categorial_features = [name[2] for name in categorial_corr_list if name[0] < 0.01]\n",
    "len(result_categorial_features)"
   ]
  },
  {
   "cell_type": "markdown",
   "metadata": {},
   "source": [
    "Воспользовавшись критерием  Хи - квадрат получили, что для 22 категориальных признаков была отвергнута нулевая гипотеза на уровне значимости 0.01, о том, что коэффицент V-Крамера для категориального признака равен 0. "
   ]
  },
  {
   "cell_type": "markdown",
   "metadata": {},
   "source": [
    "#### Сделаем визуализацию данных для категориальных признаков ( Для примера рассмотрим топ 16 из 22 категориальных признаков, наиболее сильно коррелирующих с целевой переменной и для этих переменных построим гистограммы значений категориальных признаков и отобразим их в координатах пар признаков)."
   ]
  },
  {
   "cell_type": "code",
   "execution_count": 18,
   "metadata": {},
   "outputs": [
    {
     "data": {
      "image/png": "[encoded data removed]",
      "text/plain": [
       "<matplotlib.figure.Figure at 0x5a0247fdd8>"
      ]
     },
     "metadata": {},
     "output_type": "display_data"
    }
   ],
   "source": [
    "fig, axes = plt.subplots(nrows=4, ncols=4, figsize=(20, 25))\n",
    "for idx, feature in enumerate(train_data[result_categorial_features[:16]]):\n",
    "    _ = train_data[feature][labels_data_train == 1].value_counts().plot(kind=\"bar\", color = 'black', ax=axes[idx // 4, idx % 4], title=feature)\n",
    "    _ = train_data[feature][labels_data_train == -1].value_counts().plot(kind=\"bar\", color = 'red', ax=axes[idx // 4, idx % 4], title=feature)"
   ]
  },
  {
   "cell_type": "markdown",
   "metadata": {},
   "source": [
    "Как видно из графика имеются категориальные признаки, как с большим количеством различных значений, так и с минимальным количеством вплоть до 1. В дальнейшем оценим, как выбранный набор признаков повлияет на качество модели."
   ]
  },
  {
   "cell_type": "markdown",
   "metadata": {},
   "source": [
    "Сохраним датасет из наиболее значимых категориальных признаков для дальнейшего использования в построении модели."
   ]
  },
  {
   "cell_type": "code",
   "execution_count": 19,
   "metadata": {
    "collapsed": true
   },
   "outputs": [],
   "source": [
    "categorial_data_selected_train = train_data[result_categorial_features].copy()\n",
    "categorial_data_selected_test = test_data[result_categorial_features].copy()"
   ]
  },
  {
   "cell_type": "markdown",
   "metadata": {},
   "source": [
    "### 2.2. Подбор алгоритма, метрик качества, стратегии кросс - валидации."
   ]
  },
  {
   "cell_type": "markdown",
   "metadata": {},
   "source": [
    "#### Используемые метрики качества"
   ]
  },
  {
   "cell_type": "markdown",
   "metadata": {},
   "source": [
    "В качестве основной метрики для решения задачи прогнозирования оттока будем использовать AUC ROC. Данная метрика не изменяется при изменении баланса классов и удобна для использования в случае несбалансированных классов( в задаче 93% пользователей принадлежат классу `не отток` и 7% классу `отток`)."
   ]
  },
  {
   "cell_type": "markdown",
   "metadata": {},
   "source": [
    "В качестве вспомогательных метрик будем использовать стандартные метрики для задачи классификации: precision(точность) и recall (полнота)."
   ]
  },
  {
   "cell_type": "markdown",
   "metadata": {},
   "source": [
    "#### Используемые алгоритмы классификации"
   ]
  },
  {
   "cell_type": "markdown",
   "metadata": {},
   "source": [
    "Для решения задачи рассмотрим следующий набор алгоритмов:\n",
    "\n",
    "- Линейная модель (реализация sklearn.linear_model.RidgeClassifier)\n",
    "- Случайный лес (реализация sklearn.ensemble.RandomForestClassifier)\n",
    "- Градиентный бустинг (реализация sklearn.ensemble.GradientBoostingClassifier)\n",
    "- Градиентный бустинг (реализация xgboost.XGBClassifier)"
   ]
  },
  {
   "cell_type": "markdown",
   "metadata": {},
   "source": [
    "#### Используемая стратегия кросс-валидации"
   ]
  },
  {
   "cell_type": "markdown",
   "metadata": {},
   "source": [
    "В качестве стратегии кросс-валидации лучше всего подойдет StratifiedKFold, поскольку классы в нашей задаче несбалансированы и нам необходимо сохранить распределение классов при разбиении на фолды для того, чтобы избежать переобучения модели. Разделим выборку на 5 фолдов, поскольку данных у нас не очень много и скорость обучения моделей не будет большой на таком количестве данных."
   ]
  },
  {
   "cell_type": "markdown",
   "metadata": {},
   "source": [
    "### 2.3 Построение baseline-решения для задачи оттока."
   ]
  },
  {
   "cell_type": "markdown",
   "metadata": {},
   "source": [
    "Перед построением решения предварительно необходимо обработать пропущенные значения признаков и осуществить кодирование категориальных признаков для их использования в модели. Различны методы обработки признаков и их влияние на качество модели рассмотрим далее, а для построения baseline - решения осуществим следующий формат обработки признаков:\n",
    "- вещественные (заменим пропущенные значения на 0, данный признак давать вклад в модель не будет);\n",
    "- категориальные (заменим пропущенные значения еще одной категорией(например 'NA'), в этом случае мы не потеряем информацию о наличии пропущенных значений). Закодируем категориальные признаки с использованием метода LabelEncoder;\n",
    "- сбалансируем объекты по классам с использованием метода oversampling (добавим объектов из класса `отток`, чтобы выровнять соотношение классов)."
   ]
  },
  {
   "cell_type": "markdown",
   "metadata": {},
   "source": [
    "Построим модель на отобранных ранее признаках (всего получилось 50 признаков: 28 вещественных и 22 категориальных)."
   ]
  },
  {
   "cell_type": "code",
   "execution_count": 20,
   "metadata": {},
   "outputs": [
    {
     "data": {
      "text/plain": [
       "(32000, 50)"
      ]
     },
     "execution_count": 20,
     "metadata": {},
     "output_type": "execute_result"
    }
   ],
   "source": [
    "baseline_selected_data = pd.concat([numeric_data_selected_train, categorial_data_selected_train],axis=1)\n",
    "baseline_selected_data.shape"
   ]
  },
  {
   "cell_type": "markdown",
   "metadata": {},
   "source": [
    "Удалим из данных неинформативные признаки в которых количество различных значений меньше 3."
   ]
  },
  {
   "cell_type": "code",
   "execution_count": 66,
   "metadata": {
    "collapsed": true
   },
   "outputs": [],
   "source": [
    "def drop_uninformative_features(dataset):\n",
    "    for one_column in dataset.columns:\n",
    "        if dataset.loc[:,str(one_column)].unique().shape[0] < 3:\n",
    "            dataset.drop(columns=str(one_column), inplace=True)\n",
    "    return dataset"
   ]
  },
  {
   "cell_type": "code",
   "execution_count": 67,
   "metadata": {},
   "outputs": [
    {
     "data": {
      "text/plain": [
       "(32000, 47)"
      ]
     },
     "execution_count": 67,
     "metadata": {},
     "output_type": "execute_result"
    }
   ],
   "source": [
    "baseline_selected_data = drop_uninformative_features(baseline_selected_data)\n",
    "baseline_selected_data.shape"
   ]
  },
  {
   "cell_type": "markdown",
   "metadata": {},
   "source": [
    "Целевая переменная."
   ]
  },
  {
   "cell_type": "code",
   "execution_count": 21,
   "metadata": {},
   "outputs": [
    {
     "data": {
      "text/plain": [
       "(32000,)"
      ]
     },
     "execution_count": 21,
     "metadata": {},
     "output_type": "execute_result"
    }
   ],
   "source": [
    "labels_data_train.shape"
   ]
  },
  {
   "cell_type": "markdown",
   "metadata": {},
   "source": [
    "Поскольку в нашей задаче классы несбалансированы, то воспользуемся методом Oversampling и сделаем количество объектов в классе `отток`, равным количеству объектов в классе `не отток`."
   ]
  },
  {
   "cell_type": "code",
   "execution_count": 25,
   "metadata": {},
   "outputs": [
    {
     "data": {
      "text/plain": [
       "(32000, 51)"
      ]
     },
     "execution_count": 25,
     "metadata": {},
     "output_type": "execute_result"
    }
   ],
   "source": [
    "baseline_selected_data_for_oversample = pd.concat([baseline_selected_data, labels_data_train], axis=1)\n",
    "baseline_selected_data_for_oversample.shape"
   ]
  },
  {
   "cell_type": "code",
   "execution_count": 26,
   "metadata": {
    "collapsed": true
   },
   "outputs": [],
   "source": [
    "def oversampling(data):\n",
    "    dataChurn = data[data['labels'] == 1]\n",
    "    dataNoChurn = data[data['labels'] == -1]\n",
    "    alpha = (int)(dataNoChurn.shape[0]/dataChurn.shape[0])\n",
    "    dataChurnRet = dataChurn \n",
    "    for i in range(alpha):\n",
    "        dataChurnRet = dataChurnRet.append(dataChurn)\n",
    "    dataNoChurn = dataNoChurn.append(dataChurnRet)\n",
    "    dataNoChurn = shuffle(dataNoChurn)\n",
    "    return dataNoChurn.iloc[:,:data.shape[1]-1], dataNoChurn.iloc[:,data.shape[1]-1:]\n",
    "def undersampling(data):\n",
    "    dataChurn = data[data['labels'] == 1]\n",
    "    dataNoChurn = data[data['labels'] == -1]\n",
    "    countFirst = len(dataChurn)\n",
    "    dataChurn = dataChurn.append(dataNoChurn.iloc[:countFirst,:])\n",
    "    dataChurn = shuffle(dataChurn)\n",
    "    return dataChurn.iloc[:,:data.shape[1]-1], dataChurn.iloc[:,data.shape[1]-1:]"
   ]
  },
  {
   "cell_type": "code",
   "execution_count": 27,
   "metadata": {
    "collapsed": true
   },
   "outputs": [],
   "source": [
    "baseline_selected_oversample, label_baseline_oversample = oversampling(baseline_selected_data_for_oversample)"
   ]
  },
  {
   "cell_type": "code",
   "execution_count": 28,
   "metadata": {},
   "outputs": [
    {
     "data": {
      "text/plain": [
       "(60572, 50)"
      ]
     },
     "execution_count": 28,
     "metadata": {},
     "output_type": "execute_result"
    }
   ],
   "source": [
    "baseline_selected_oversample.shape"
   ]
  },
  {
   "cell_type": "markdown",
   "metadata": {},
   "source": [
    "Обработаем пропущенные значения вещественных признаков."
   ]
  },
  {
   "cell_type": "code",
   "execution_count": 29,
   "metadata": {},
   "outputs": [
    {
     "data": {
      "text/html": [
       "<div>\n",
       "<style scoped>\n",
       "    .dataframe tbody tr th:only-of-type {\n",
       "        vertical-align: middle;\n",
       "    }\n",
       "\n",
       "    .dataframe tbody tr th {\n",
       "        vertical-align: top;\n",
       "    }\n",
       "\n",
       "    .dataframe thead th {\n",
       "        text-align: right;\n",
       "    }\n",
       "</style>\n",
       "<table border=\"1\" class=\"dataframe\">\n",
       "  <thead>\n",
       "    <tr style=\"text-align: right;\">\n",
       "      <th></th>\n",
       "      <th>Var189</th>\n",
       "      <th>Var74</th>\n",
       "      <th>Var13</th>\n",
       "      <th>Var7</th>\n",
       "      <th>Var140</th>\n",
       "      <th>Var125</th>\n",
       "      <th>Var126</th>\n",
       "      <th>Var73</th>\n",
       "      <th>Var6</th>\n",
       "      <th>Var65</th>\n",
       "      <th>...</th>\n",
       "      <th>Var22</th>\n",
       "      <th>Var25</th>\n",
       "      <th>Var28</th>\n",
       "      <th>Var85</th>\n",
       "      <th>Var188</th>\n",
       "      <th>Var94</th>\n",
       "      <th>Var24</th>\n",
       "      <th>Var109</th>\n",
       "      <th>Var38</th>\n",
       "      <th>Var53</th>\n",
       "    </tr>\n",
       "  </thead>\n",
       "  <tbody>\n",
       "    <tr>\n",
       "      <th>4569</th>\n",
       "      <td>312.0</td>\n",
       "      <td>210.0</td>\n",
       "      <td>400.0</td>\n",
       "      <td>14.0</td>\n",
       "      <td>3320.0</td>\n",
       "      <td>71163.0</td>\n",
       "      <td>0.0</td>\n",
       "      <td>134.0</td>\n",
       "      <td>952.0</td>\n",
       "      <td>18.0</td>\n",
       "      <td>...</td>\n",
       "      <td>145.0</td>\n",
       "      <td>40.0</td>\n",
       "      <td>200.00</td>\n",
       "      <td>6.0</td>\n",
       "      <td>0.0</td>\n",
       "      <td>114741.0</td>\n",
       "      <td>0.0</td>\n",
       "      <td>24.0</td>\n",
       "      <td>7257600.0</td>\n",
       "      <td>0.0</td>\n",
       "    </tr>\n",
       "    <tr>\n",
       "      <th>10087</th>\n",
       "      <td>0.0</td>\n",
       "      <td>28.0</td>\n",
       "      <td>108.0</td>\n",
       "      <td>7.0</td>\n",
       "      <td>580.0</td>\n",
       "      <td>3348.0</td>\n",
       "      <td>-10.0</td>\n",
       "      <td>58.0</td>\n",
       "      <td>518.0</td>\n",
       "      <td>9.0</td>\n",
       "      <td>...</td>\n",
       "      <td>275.0</td>\n",
       "      <td>32.0</td>\n",
       "      <td>235.60</td>\n",
       "      <td>38.0</td>\n",
       "      <td>0.0</td>\n",
       "      <td>24576.0</td>\n",
       "      <td>2.0</td>\n",
       "      <td>40.0</td>\n",
       "      <td>5512248.0</td>\n",
       "      <td>0.0</td>\n",
       "    </tr>\n",
       "    <tr>\n",
       "      <th>16963</th>\n",
       "      <td>156.0</td>\n",
       "      <td>0.0</td>\n",
       "      <td>0.0</td>\n",
       "      <td>0.0</td>\n",
       "      <td>0.0</td>\n",
       "      <td>0.0</td>\n",
       "      <td>0.0</td>\n",
       "      <td>18.0</td>\n",
       "      <td>616.0</td>\n",
       "      <td>9.0</td>\n",
       "      <td>...</td>\n",
       "      <td>530.0</td>\n",
       "      <td>264.0</td>\n",
       "      <td>288.08</td>\n",
       "      <td>18.0</td>\n",
       "      <td>0.0</td>\n",
       "      <td>30177.0</td>\n",
       "      <td>8.0</td>\n",
       "      <td>88.0</td>\n",
       "      <td>6833340.0</td>\n",
       "      <td>0.0</td>\n",
       "    </tr>\n",
       "    <tr>\n",
       "      <th>27588</th>\n",
       "      <td>0.0</td>\n",
       "      <td>0.0</td>\n",
       "      <td>0.0</td>\n",
       "      <td>0.0</td>\n",
       "      <td>0.0</td>\n",
       "      <td>0.0</td>\n",
       "      <td>4.0</td>\n",
       "      <td>16.0</td>\n",
       "      <td>252.0</td>\n",
       "      <td>18.0</td>\n",
       "      <td>...</td>\n",
       "      <td>485.0</td>\n",
       "      <td>232.0</td>\n",
       "      <td>241.68</td>\n",
       "      <td>10.0</td>\n",
       "      <td>0.0</td>\n",
       "      <td>374832.0</td>\n",
       "      <td>6.0</td>\n",
       "      <td>80.0</td>\n",
       "      <td>1441986.0</td>\n",
       "      <td>0.0</td>\n",
       "    </tr>\n",
       "    <tr>\n",
       "      <th>27041</th>\n",
       "      <td>162.0</td>\n",
       "      <td>0.0</td>\n",
       "      <td>40.0</td>\n",
       "      <td>0.0</td>\n",
       "      <td>0.0</td>\n",
       "      <td>16524.0</td>\n",
       "      <td>0.0</td>\n",
       "      <td>156.0</td>\n",
       "      <td>91.0</td>\n",
       "      <td>9.0</td>\n",
       "      <td>...</td>\n",
       "      <td>0.0</td>\n",
       "      <td>0.0</td>\n",
       "      <td>233.44</td>\n",
       "      <td>0.0</td>\n",
       "      <td>0.0</td>\n",
       "      <td>0.0</td>\n",
       "      <td>0.0</td>\n",
       "      <td>0.0</td>\n",
       "      <td>0.0</td>\n",
       "      <td>0.0</td>\n",
       "    </tr>\n",
       "  </tbody>\n",
       "</table>\n",
       "<p>5 rows × 28 columns</p>\n",
       "</div>"
      ],
      "text/plain": [
       "       Var189  Var74  Var13  Var7  Var140   Var125  Var126  Var73   Var6  \\\n",
       "4569    312.0  210.0  400.0  14.0  3320.0  71163.0     0.0  134.0  952.0   \n",
       "10087     0.0   28.0  108.0   7.0   580.0   3348.0   -10.0   58.0  518.0   \n",
       "16963   156.0    0.0    0.0   0.0     0.0      0.0     0.0   18.0  616.0   \n",
       "27588     0.0    0.0    0.0   0.0     0.0      0.0     4.0   16.0  252.0   \n",
       "27041   162.0    0.0   40.0   0.0     0.0  16524.0     0.0  156.0   91.0   \n",
       "\n",
       "       Var65  ...  Var22  Var25   Var28  Var85  Var188     Var94  Var24  \\\n",
       "4569    18.0  ...  145.0   40.0  200.00    6.0     0.0  114741.0    0.0   \n",
       "10087    9.0  ...  275.0   32.0  235.60   38.0     0.0   24576.0    2.0   \n",
       "16963    9.0  ...  530.0  264.0  288.08   18.0     0.0   30177.0    8.0   \n",
       "27588   18.0  ...  485.0  232.0  241.68   10.0     0.0  374832.0    6.0   \n",
       "27041    9.0  ...    0.0    0.0  233.44    0.0     0.0       0.0    0.0   \n",
       "\n",
       "       Var109      Var38  Var53  \n",
       "4569     24.0  7257600.0    0.0  \n",
       "10087    40.0  5512248.0    0.0  \n",
       "16963    88.0  6833340.0    0.0  \n",
       "27588    80.0  1441986.0    0.0  \n",
       "27041     0.0        0.0    0.0  \n",
       "\n",
       "[5 rows x 28 columns]"
      ]
     },
     "execution_count": 29,
     "metadata": {},
     "output_type": "execute_result"
    }
   ],
   "source": [
    "baseline_selected_numeric_features_data = baseline_selected_oversample.iloc[:,:28]\n",
    "baseline_selected_numeric_features_data.fillna(0, inplace=True)\n",
    "baseline_selected_numeric_features_data.head()"
   ]
  },
  {
   "cell_type": "markdown",
   "metadata": {},
   "source": [
    "Обработаем пропущенные значения категориальных признаков."
   ]
  },
  {
   "cell_type": "code",
   "execution_count": 30,
   "metadata": {
    "scrolled": true
   },
   "outputs": [
    {
     "data": {
      "text/html": [
       "<div>\n",
       "<style scoped>\n",
       "    .dataframe tbody tr th:only-of-type {\n",
       "        vertical-align: middle;\n",
       "    }\n",
       "\n",
       "    .dataframe tbody tr th {\n",
       "        vertical-align: top;\n",
       "    }\n",
       "\n",
       "    .dataframe thead th {\n",
       "        text-align: right;\n",
       "    }\n",
       "</style>\n",
       "<table border=\"1\" class=\"dataframe\">\n",
       "  <thead>\n",
       "    <tr style=\"text-align: right;\">\n",
       "      <th></th>\n",
       "      <th>Var213</th>\n",
       "      <th>Var194</th>\n",
       "      <th>Var191</th>\n",
       "      <th>Var201</th>\n",
       "      <th>Var216</th>\n",
       "      <th>Var204</th>\n",
       "      <th>Var211</th>\n",
       "      <th>Var226</th>\n",
       "      <th>Var193</th>\n",
       "      <th>Var210</th>\n",
       "      <th>...</th>\n",
       "      <th>Var225</th>\n",
       "      <th>Var212</th>\n",
       "      <th>Var227</th>\n",
       "      <th>Var228</th>\n",
       "      <th>Var229</th>\n",
       "      <th>Var205</th>\n",
       "      <th>Var206</th>\n",
       "      <th>Var192</th>\n",
       "      <th>Var199</th>\n",
       "      <th>Var218</th>\n",
       "    </tr>\n",
       "  </thead>\n",
       "  <tbody>\n",
       "    <tr>\n",
       "      <th>4569</th>\n",
       "      <td>NA</td>\n",
       "      <td>SEuy</td>\n",
       "      <td>NA</td>\n",
       "      <td>smXZ</td>\n",
       "      <td>beK4AFX</td>\n",
       "      <td>Px52</td>\n",
       "      <td>L84s</td>\n",
       "      <td>PM2D</td>\n",
       "      <td>2Knk1KF</td>\n",
       "      <td>uKAI</td>\n",
       "      <td>...</td>\n",
       "      <td>xG3x</td>\n",
       "      <td>NhsEn4L</td>\n",
       "      <td>RAYp</td>\n",
       "      <td>55YFVY9</td>\n",
       "      <td>NA</td>\n",
       "      <td>VpdQ</td>\n",
       "      <td>sYC_</td>\n",
       "      <td>4e7Wq69R_D</td>\n",
       "      <td>II0CMuA</td>\n",
       "      <td>UYBR</td>\n",
       "    </tr>\n",
       "    <tr>\n",
       "      <th>10087</th>\n",
       "      <td>NA</td>\n",
       "      <td>NA</td>\n",
       "      <td>NA</td>\n",
       "      <td>NA</td>\n",
       "      <td>XTbPUYD</td>\n",
       "      <td>LqKm</td>\n",
       "      <td>Mtgm</td>\n",
       "      <td>453m</td>\n",
       "      <td>RO12</td>\n",
       "      <td>uKAI</td>\n",
       "      <td>...</td>\n",
       "      <td>NA</td>\n",
       "      <td>XfqtO3UdzaXh_</td>\n",
       "      <td>RAYp</td>\n",
       "      <td>F2FyR07IdsN7I</td>\n",
       "      <td>NA</td>\n",
       "      <td>09_Q</td>\n",
       "      <td>kxE9</td>\n",
       "      <td>vAsgUHXM47</td>\n",
       "      <td>nQUeejKKqM</td>\n",
       "      <td>cJvF</td>\n",
       "    </tr>\n",
       "    <tr>\n",
       "      <th>16963</th>\n",
       "      <td>NA</td>\n",
       "      <td>NA</td>\n",
       "      <td>NA</td>\n",
       "      <td>NA</td>\n",
       "      <td>kq00nJM</td>\n",
       "      <td>15m3</td>\n",
       "      <td>L84s</td>\n",
       "      <td>FSa2</td>\n",
       "      <td>RO12</td>\n",
       "      <td>uKAI</td>\n",
       "      <td>...</td>\n",
       "      <td>NA</td>\n",
       "      <td>NhsEn4L</td>\n",
       "      <td>RAYp</td>\n",
       "      <td>F2FyR07IdsN7I</td>\n",
       "      <td>NA</td>\n",
       "      <td>sJzTlal</td>\n",
       "      <td>zm5i</td>\n",
       "      <td>639qrQK2Mx</td>\n",
       "      <td>HKFGqS8</td>\n",
       "      <td>UYBR</td>\n",
       "    </tr>\n",
       "    <tr>\n",
       "      <th>27588</th>\n",
       "      <td>NA</td>\n",
       "      <td>NA</td>\n",
       "      <td>NA</td>\n",
       "      <td>NA</td>\n",
       "      <td>TDc_9Yi</td>\n",
       "      <td>kJJ7</td>\n",
       "      <td>L84s</td>\n",
       "      <td>7P5s</td>\n",
       "      <td>AERks4l</td>\n",
       "      <td>uKAI</td>\n",
       "      <td>...</td>\n",
       "      <td>NA</td>\n",
       "      <td>JBfYVit4g8</td>\n",
       "      <td>02N6s8f</td>\n",
       "      <td>xwM2aC7IdeMC0</td>\n",
       "      <td>NA</td>\n",
       "      <td>09_Q</td>\n",
       "      <td>IYzP</td>\n",
       "      <td>dRaq9ayE15</td>\n",
       "      <td>mzDZadGIEhIBI</td>\n",
       "      <td>cJvF</td>\n",
       "    </tr>\n",
       "    <tr>\n",
       "      <th>27041</th>\n",
       "      <td>NA</td>\n",
       "      <td>SEuy</td>\n",
       "      <td>NA</td>\n",
       "      <td>smXZ</td>\n",
       "      <td>OFqmdNV</td>\n",
       "      <td>Y9Bl</td>\n",
       "      <td>L84s</td>\n",
       "      <td>uWr3</td>\n",
       "      <td>2Knk1KF</td>\n",
       "      <td>uKAI</td>\n",
       "      <td>...</td>\n",
       "      <td>kG3k</td>\n",
       "      <td>XfqtO3UdzaXh_</td>\n",
       "      <td>RAYp</td>\n",
       "      <td>TCU50_Yjmm6GIBZ0lL_</td>\n",
       "      <td>am7c</td>\n",
       "      <td>sJzTlal</td>\n",
       "      <td>haYg</td>\n",
       "      <td>JMGq9aXt5a</td>\n",
       "      <td>GHf4lBZm_z</td>\n",
       "      <td>cJvF</td>\n",
       "    </tr>\n",
       "  </tbody>\n",
       "</table>\n",
       "<p>5 rows × 22 columns</p>\n",
       "</div>"
      ],
      "text/plain": [
       "      Var213 Var194 Var191 Var201   Var216 Var204 Var211 Var226   Var193  \\\n",
       "4569      NA   SEuy     NA   smXZ  beK4AFX   Px52   L84s   PM2D  2Knk1KF   \n",
       "10087     NA     NA     NA     NA  XTbPUYD   LqKm   Mtgm   453m     RO12   \n",
       "16963     NA     NA     NA     NA  kq00nJM   15m3   L84s   FSa2     RO12   \n",
       "27588     NA     NA     NA     NA  TDc_9Yi   kJJ7   L84s   7P5s  AERks4l   \n",
       "27041     NA   SEuy     NA   smXZ  OFqmdNV   Y9Bl   L84s   uWr3  2Knk1KF   \n",
       "\n",
       "      Var210  ... Var225         Var212   Var227               Var228 Var229  \\\n",
       "4569    uKAI  ...   xG3x        NhsEn4L     RAYp              55YFVY9     NA   \n",
       "10087   uKAI  ...     NA  XfqtO3UdzaXh_     RAYp        F2FyR07IdsN7I     NA   \n",
       "16963   uKAI  ...     NA        NhsEn4L     RAYp        F2FyR07IdsN7I     NA   \n",
       "27588   uKAI  ...     NA     JBfYVit4g8  02N6s8f        xwM2aC7IdeMC0     NA   \n",
       "27041   uKAI  ...   kG3k  XfqtO3UdzaXh_     RAYp  TCU50_Yjmm6GIBZ0lL_   am7c   \n",
       "\n",
       "        Var205 Var206      Var192         Var199 Var218  \n",
       "4569      VpdQ   sYC_  4e7Wq69R_D        II0CMuA   UYBR  \n",
       "10087     09_Q   kxE9  vAsgUHXM47     nQUeejKKqM   cJvF  \n",
       "16963  sJzTlal   zm5i  639qrQK2Mx        HKFGqS8   UYBR  \n",
       "27588     09_Q   IYzP  dRaq9ayE15  mzDZadGIEhIBI   cJvF  \n",
       "27041  sJzTlal   haYg  JMGq9aXt5a     GHf4lBZm_z   cJvF  \n",
       "\n",
       "[5 rows x 22 columns]"
      ]
     },
     "execution_count": 30,
     "metadata": {},
     "output_type": "execute_result"
    }
   ],
   "source": [
    "baseline_selected_categorial_features_data = baseline_selected_oversample.iloc[:,28:]\n",
    "baseline_selected_categorial_features_data = baseline_selected_categorial_features_data.fillna('NA').astype(str)\n",
    "baseline_selected_categorial_features_data.head()"
   ]
  },
  {
   "cell_type": "markdown",
   "metadata": {},
   "source": [
    "Преобразуем значения категориальных признаков с использованием метода preprocessing.LabelEncoder."
   ]
  },
  {
   "cell_type": "code",
   "execution_count": 22,
   "metadata": {
    "collapsed": true
   },
   "outputs": [],
   "source": [
    "def labelEncoder(data):\n",
    "    lab_enc = LabelEncoder()\n",
    "    for one_column in data.columns:\n",
    "        lab_enc.fit(data.loc[:,one_column])\n",
    "        data.loc[:,one_column] = lab_enc.transform(data.loc[:,one_column])        \n",
    "    return data"
   ]
  },
  {
   "cell_type": "code",
   "execution_count": 32,
   "metadata": {
    "collapsed": true
   },
   "outputs": [],
   "source": [
    "encoded_base_selected_categorial_data = labelEncoder(baseline_selected_categorial_features_data)"
   ]
  },
  {
   "cell_type": "markdown",
   "metadata": {},
   "source": [
    "Объединим обработанные признаки в один датасет для их дальнейшего отбора."
   ]
  },
  {
   "cell_type": "code",
   "execution_count": 33,
   "metadata": {},
   "outputs": [
    {
     "data": {
      "text/plain": [
       "(60572, 50)"
      ]
     },
     "execution_count": 33,
     "metadata": {},
     "output_type": "execute_result"
    }
   ],
   "source": [
    "result_base_selected_data_for_model = pd.concat([baseline_selected_numeric_features_data, encoded_base_selected_categorial_data], axis=1)\n",
    "result_base_selected_data_for_model.shape"
   ]
  },
  {
   "cell_type": "markdown",
   "metadata": {},
   "source": [
    "#### Кросс-валидация (Для кросс - валидации используем StratifiedKFold с разбиением на 5 фолдов, для тестовой выборки оставим 20% данных)."
   ]
  },
  {
   "cell_type": "markdown",
   "metadata": {},
   "source": [
    "Создадим обучающую, а также отложенную выборку для проверки качества модели."
   ]
  },
  {
   "cell_type": "code",
   "execution_count": 34,
   "metadata": {
    "collapsed": true
   },
   "outputs": [],
   "source": [
    "select_train_data_for_model, select_test_data_for_model, select_train_labels_for_model, select_test_labels_for_model = train_test_split(result_base_selected_data_for_model, label_baseline_oversample, test_size=0.20, random_state=5, stratify = label_baseline_oversample)"
   ]
  },
  {
   "cell_type": "code",
   "execution_count": 35,
   "metadata": {},
   "outputs": [
    {
     "data": {
      "text/plain": [
       "(48457, 50)"
      ]
     },
     "execution_count": 35,
     "metadata": {},
     "output_type": "execute_result"
    },
    {
     "data": {
      "text/plain": [
       "(12115, 50)"
      ]
     },
     "execution_count": 35,
     "metadata": {},
     "output_type": "execute_result"
    },
    {
     "data": {
      "text/plain": [
       "(48457, 1)"
      ]
     },
     "execution_count": 35,
     "metadata": {},
     "output_type": "execute_result"
    },
    {
     "data": {
      "text/plain": [
       "(12115, 1)"
      ]
     },
     "execution_count": 35,
     "metadata": {},
     "output_type": "execute_result"
    }
   ],
   "source": [
    "select_train_data_for_model.shape\n",
    "select_test_data_for_model.shape\n",
    "select_train_labels_for_model.shape\n",
    "select_test_labels_for_model.shape"
   ]
  },
  {
   "cell_type": "markdown",
   "metadata": {},
   "source": [
    "Зададим стратегию кросс-валидации с разбиением на 5 фолдов."
   ]
  },
  {
   "cell_type": "code",
   "execution_count": 36,
   "metadata": {
    "collapsed": true
   },
   "outputs": [],
   "source": [
    "cross_val_strategy = StratifiedKFold(n_splits=5, random_state=100)"
   ]
  },
  {
   "cell_type": "markdown",
   "metadata": {},
   "source": [
    "#### Построение модели для baseline - решения."
   ]
  },
  {
   "cell_type": "markdown",
   "metadata": {},
   "source": [
    "Построим модели и посчитаем их метрики на кросс-валидации.\n",
    "В качестве основной метрики для решения задачи прогнозирования оттока будем использовать AUC ROC.\n",
    "В качестве вспомогательных метрик будем использовать стандартные метрики для задачи классификации: precision(точность) и recall (полнота).\n",
    "Также выведем метрики PR-AUC, f1-score и Accuracy.\n"
   ]
  },
  {
   "cell_type": "markdown",
   "metadata": {},
   "source": [
    "Будем использовать следующие модели: \n",
    "- Линейная модель (RidgeClassifier);\n",
    "- Случайный лес (RandomForestClassifier);\n",
    "- Градиентный бустинг (GradientBoostingClassifier);\n",
    "- Градиентный бустинг (XGBClassifier)."
   ]
  },
  {
   "cell_type": "markdown",
   "metadata": {},
   "source": [
    "Напишем функцию для подсчета и отображения метрик при построении и обучении модели"
   ]
  },
  {
   "cell_type": "code",
   "execution_count": 23,
   "metadata": {
    "collapsed": true
   },
   "outputs": [],
   "source": [
    "def calculate_classification_metrics(classif, strategy, train_dat, train_lab):\n",
    "    roc_auc = []\n",
    "    pr_auc = []\n",
    "    accuracy = []\n",
    "    precision = []\n",
    "    recall = []\n",
    "    f1_score = []\n",
    "    roc_auc.append(cross_val_score(classif, train_dat, train_lab, scoring='roc_auc', cv= strategy))\n",
    "    pr_auc.append(cross_val_score(classif, train_dat, train_lab, scoring='average_precision', cv= strategy))\n",
    "    accuracy.append(cross_val_score(classif, train_dat, train_lab, scoring='accuracy', cv= strategy))\n",
    "    precision.append(cross_val_score(classif, train_dat, train_lab, scoring='precision', cv= strategy))\n",
    "    recall.append(cross_val_score(classif, train_dat, train_lab, scoring='recall', cv= strategy))\n",
    "    f1_score.append(cross_val_score(classif, train_dat, train_lab, scoring='f1', cv= strategy))\n",
    "\n",
    "    print ('ROC-AUC: {}'.format(np.mean(roc_auc)))\n",
    "    print ('PR-AUC: {}'.format(np.mean(pr_auc)))\n",
    "    print ('Accuracy: {}'.format(np.mean(accuracy)))\n",
    "    print ('Precision: {}'.format(np.mean(precision)))\n",
    "    print ('Recall: {}'.format(np.mean(recall)))\n",
    "    print ('F1-score: {}'.format(np.mean(f1_score)))\n",
    "    \n",
    "    return roc_auc, pr_auc, accuracy, precision, recall, f1_score"
   ]
  },
  {
   "cell_type": "markdown",
   "metadata": {},
   "source": [
    "#### RidgeClassifier"
   ]
  },
  {
   "cell_type": "markdown",
   "metadata": {},
   "source": [
    "Обучим линейную модель RidgeClassifier с параметрами по умолчанию. "
   ]
  },
  {
   "cell_type": "code",
   "execution_count": 99,
   "metadata": {},
   "outputs": [
    {
     "name": "stdout",
     "output_type": "stream",
     "text": [
      "ROC-AUC: 0.6699904695826435\n",
      "PR-AUC: 0.6658287391081849\n",
      "Accuracy: 0.6241823161101051\n",
      "Precision: 0.6217452061592071\n",
      "Recall: 0.6757124889959154\n",
      "F1-score: 0.6475678574314254\n",
      "Wall time: 6.87 s\n"
     ]
    }
   ],
   "source": [
    "%%time\n",
    "ridg_classif = RidgeClassifier(random_state=10)\n",
    "roc_auc, pr_auc, accuracy, precision, recall, f1_score = calculate_classification_metrics(ridg_classif, cross_val_strategy, select_train_data_for_model, select_train_labels_for_model)"
   ]
  },
  {
   "cell_type": "markdown",
   "metadata": {},
   "source": [
    "Проверим качество модели на тестовой выборке."
   ]
  },
  {
   "cell_type": "code",
   "execution_count": 100,
   "metadata": {},
   "outputs": [
    {
     "name": "stdout",
     "output_type": "stream",
     "text": [
      "ROC-AUC: 0.6665038146932147\n",
      "PR-AUC: 0.6590491053045536\n",
      "Accuracy: 0.6202228642179117\n",
      "Precision: 0.6187213752177425\n",
      "Recall: 0.6691964570938312\n",
      "F1-score: 0.6429322080348212\n",
      "Wall time: 2.27 s\n"
     ]
    }
   ],
   "source": [
    "%%time\n",
    "ridg_classif = RidgeClassifier(random_state=10)\n",
    "roc_auc, pr_auc, accuracy, precision, recall, f1_score = calculate_classification_metrics(ridg_classif, cross_val_strategy, select_test_data_for_model, select_test_labels_for_model)"
   ]
  },
  {
   "cell_type": "markdown",
   "metadata": {},
   "source": [
    "#### RandomForestClassifier"
   ]
  },
  {
   "cell_type": "markdown",
   "metadata": {},
   "source": [
    "Обучим случайный лес RandomForestClassifier с параметрами по умолчанию. "
   ]
  },
  {
   "cell_type": "code",
   "execution_count": 101,
   "metadata": {},
   "outputs": [
    {
     "name": "stdout",
     "output_type": "stream",
     "text": [
      "ROC-AUC: 0.9999999147930619\n",
      "PR-AUC: 0.9999999184514616\n",
      "Accuracy: 0.9959758263737861\n",
      "Precision: 0.9921885366026568\n",
      "Recall: 1.0\n",
      "F1-score: 0.9960784698573691\n",
      "Wall time: 16min 46s\n"
     ]
    }
   ],
   "source": [
    "%%time\n",
    "rand_forest_classif = RandomForestClassifier(random_state=19)\n",
    "roc_auc, pr_auc, accuracy, precision, recall, f1_score = calculate_classification_metrics(rand_forest_classif, cross_val_strategy, select_train_data_for_model, select_train_labels_for_model)"
   ]
  },
  {
   "cell_type": "markdown",
   "metadata": {},
   "source": [
    "Проверим качество модели на тестовой выборке."
   ]
  },
  {
   "cell_type": "code",
   "execution_count": 102,
   "metadata": {},
   "outputs": [
    {
     "name": "stdout",
     "output_type": "stream",
     "text": [
      "ROC-AUC: 0.9612239360313612\n",
      "PR-AUC: 0.972593326090912\n",
      "Accuracy: 0.8939331407346266\n",
      "Precision: 0.8813231951599885\n",
      "Recall: 0.9158454170529415\n",
      "F1-score: 0.8982196564938956\n",
      "Wall time: 3min 16s\n"
     ]
    }
   ],
   "source": [
    "%%time\n",
    "rand_forest_classif = RandomForestClassifier(random_state=19)\n",
    "roc_auc, pr_auc, accuracy, precision, recall, f1_score = calculate_classification_metrics(rand_forest_classif, cross_val_strategy, select_test_data_for_model, select_test_labels_for_model)"
   ]
  },
  {
   "cell_type": "markdown",
   "metadata": {},
   "source": [
    "Модель, основанная на случайном лесе переобучилась на имеющейся выборке."
   ]
  },
  {
   "cell_type": "markdown",
   "metadata": {},
   "source": [
    "#### GradientBoostingClassifier"
   ]
  },
  {
   "cell_type": "markdown",
   "metadata": {},
   "source": [
    "Обучим градиентный бустинг GradientBoostingClassifier с параметрами по умолчанию. "
   ]
  },
  {
   "cell_type": "code",
   "execution_count": 103,
   "metadata": {},
   "outputs": [
    {
     "name": "stdout",
     "output_type": "stream",
     "text": [
      "ROC-AUC: 0.7839289676468557\n",
      "PR-AUC: 0.7755090142767267\n",
      "Accuracy: 0.704686724449118\n",
      "Precision: 0.6968874019719921\n",
      "Recall: 0.7470719594560435\n",
      "F1-score: 0.721086137358441\n",
      "Wall time: 21min 1s\n"
     ]
    }
   ],
   "source": [
    "%%time\n",
    "grad_boost_classif = GradientBoostingClassifier(random_state=23)\n",
    "roc_auc, pr_auc, precision, recall, f1_score, models = calculate_classification_metrics(grad_boost_classif, cross_val_strategy, select_train_data_for_model, select_train_labels_for_model)"
   ]
  },
  {
   "cell_type": "markdown",
   "metadata": {},
   "source": [
    "Проверим качество модели на тестовой выборке."
   ]
  },
  {
   "cell_type": "code",
   "execution_count": 104,
   "metadata": {},
   "outputs": [
    {
     "name": "stdout",
     "output_type": "stream",
     "text": [
      "ROC-AUC: 0.7765656495586754\n",
      "PR-AUC: 0.7724775111888922\n",
      "Accuracy: 0.7006190672719768\n",
      "Precision: 0.690595505664907\n",
      "Recall: 0.7504456014217522\n",
      "F1-score: 0.7192509699981555\n",
      "Wall time: 4min 38s\n"
     ]
    }
   ],
   "source": [
    "%%time\n",
    "grad_boost_classif = GradientBoostingClassifier(random_state=23)\n",
    "roc_auc, pr_auc, precision, recall, f1_score, models = calculate_classification_metrics(grad_boost_classif, cross_val_strategy, select_test_data_for_model, select_test_labels_for_model)"
   ]
  },
  {
   "cell_type": "markdown",
   "metadata": {},
   "source": [
    "#### XGBClassifier"
   ]
  },
  {
   "cell_type": "markdown",
   "metadata": {},
   "source": [
    "Обучим градиентный бустинг XGBClassifier с параметрами по умолчанию."
   ]
  },
  {
   "cell_type": "code",
   "execution_count": 105,
   "metadata": {},
   "outputs": [
    {
     "name": "stdout",
     "output_type": "stream",
     "text": [
      "ROC-AUC: 0.7820539770364382\n",
      "PR-AUC: 0.7733467238921349\n",
      "Accuracy: 0.7045422477373797\n",
      "Precision: 0.6957235421771125\n",
      "Recall: 0.7497778716053684\n",
      "F1-score: 0.7217116700138766\n",
      "Wall time: 3min 24s\n"
     ]
    }
   ],
   "source": [
    "%%time\n",
    "xgboost_classifier = xgb.XGBClassifier(random_state=44, n_jobs=-1)\n",
    "roc_auc, pr_auc, precision, recall, f1_score, models = calculate_classification_metrics(xgboost_classifier, cross_val_strategy, select_train_data_for_model, select_train_labels_for_model)"
   ]
  },
  {
   "cell_type": "markdown",
   "metadata": {},
   "source": [
    "Проверим качество модели на тестовой выборке."
   ]
  },
  {
   "cell_type": "code",
   "execution_count": 106,
   "metadata": {},
   "outputs": [
    {
     "name": "stdout",
     "output_type": "stream",
     "text": [
      "ROC-AUC: 0.7757823982062518\n",
      "PR-AUC: 0.771003500249593\n",
      "Accuracy: 0.7021873710276517\n",
      "Precision: 0.6908503725637836\n",
      "Recall: 0.7551301860247399\n",
      "F1-score: 0.7215485392943257\n",
      "Wall time: 54.3 s\n"
     ]
    }
   ],
   "source": [
    "%%time\n",
    "xgboost_classifier = xgb.XGBClassifier(random_state=44, n_jobs=-1)\n",
    "roc_auc, pr_auc, precision, recall, f1_score, models = calculate_classification_metrics(xgboost_classifier, cross_val_strategy, select_test_data_for_model, select_test_labels_for_model)"
   ]
  },
  {
   "cell_type": "markdown",
   "metadata": {},
   "source": [
    "В baseline - решении были обучены следующие 4 модели: \n",
    "- Линейная модель. Для нее получились следующие значения метрик на кросс-валидации: (ROC-AUC: 0.67, Precision: 0.62, Recall: 0.67)\n",
    "- Случайный лес. Для нее получились следующие значения метрик на кросс-валидации: (ROC-AUC: 0.96, Precision: 0.88, Recall: 0.91)\n",
    "- Градиентный бустинг (sklearn). Для нее получились следующие значения метрик на кросс-валидации: (ROC-AUC: 0.78, Precision: 0.69, Recall: 0.75)\n",
    "- Градиентный бустинг (xgboost). Для нее получились следующие значения метрик на кросс-валидации: (ROC-AUC: 0.78, Precision: 0.69, Recall: 0.75)\n",
    "\n",
    "Наилучшее качество показала модель на основе случайного леса (видно, что модель очень сильно подстроилась под имеющиеся данные и переобучилась). \n",
    "Хорошее качество показали модели градиентного бустинга из пакетов sklearn и xgboost, но в дальнейшем для построения модели выберем реализацию градиентного бустинга из пакета xgboost, поскольку эта реализация алгоритма градиентного бустинга имеет большое количество параметров для настройки."
   ]
  },
  {
   "cell_type": "markdown",
   "metadata": {},
   "source": [
    "## 3. Эксперименты с моделью."
   ]
  },
  {
   "cell_type": "markdown",
   "metadata": {},
   "source": [
    "### 3.1. Построение кривых обучения."
   ]
  },
  {
   "cell_type": "markdown",
   "metadata": {},
   "source": [
    "Для начала оценим как много объектов нужно для построения качественной модели. Для обучения доступна достаточно большая выборка и может так оказаться, что начиная с некоторого момента рост размера обучающей выборки перестает влиять на качество модели. Построим кривые обучения с использованием метода `sklearn.model_selection.learning_curve`. Будем обучать модель на выборках разного размера начиная с небольшого количество объектов в обучающей выборке и постепенно наращивая её размер с некоторым шагом."
   ]
  },
  {
   "cell_type": "code",
   "execution_count": 38,
   "metadata": {},
   "outputs": [
    {
     "data": {
      "text/plain": [
       "<matplotlib.figure.Figure at 0xe1c4e9b00>"
      ]
     },
     "execution_count": 38,
     "metadata": {},
     "output_type": "execute_result"
    },
    {
     "data": {
      "text/plain": [
       "[<matplotlib.lines.Line2D at 0xe11ecee48>]"
      ]
     },
     "execution_count": 38,
     "metadata": {},
     "output_type": "execute_result"
    },
    {
     "data": {
      "text/plain": [
       "[<matplotlib.lines.Line2D at 0xe1c57af60>]"
      ]
     },
     "execution_count": 38,
     "metadata": {},
     "output_type": "execute_result"
    },
    {
     "data": {
      "text/plain": [
       "<matplotlib.text.Text at 0xe1c06db70>"
      ]
     },
     "execution_count": 38,
     "metadata": {},
     "output_type": "execute_result"
    },
    {
     "data": {
      "text/plain": [
       "<matplotlib.text.Text at 0xe1c730cc0>"
      ]
     },
     "execution_count": 38,
     "metadata": {},
     "output_type": "execute_result"
    },
    {
     "data": {
      "text/plain": [
       "<matplotlib.legend.Legend at 0xe10c24cc0>"
      ]
     },
     "execution_count": 38,
     "metadata": {},
     "output_type": "execute_result"
    },
    {
     "data": {
      "image/png": "[encoded data removed]",
      "text/plain": [
       "<matplotlib.figure.Figure at 0xe1c4e9b00>"
      ]
     },
     "metadata": {},
     "output_type": "display_data"
    }
   ],
   "source": [
    "numeric_data_first = numeric_data_selected_train.copy()\n",
    "categorial_data_first = categorial_data_selected_train.copy()\n",
    "# обработаем отдельно вещественые признаки\n",
    "# удалим пустые значения столбцов\n",
    "numeric_data_first = numeric_data_first.dropna(axis=1,how='all')\n",
    "# заменяем пропущенные значения  вещественных признаков средними значенияи по столбцу\n",
    "numeric_data_first = numeric_data_first.fillna(numeric_data_first.mean())\n",
    "# отмасштабируем значения вещественных признаков\n",
    "numeric_data_first = pd.DataFrame(StandardScaler().fit_transform(numeric_data_first))\n",
    "# обработаем отдельно категориальные признаки\n",
    "categorial_data_first = categorial_data_first.fillna('NA').astype(str)\n",
    "categorial_data_first_encoded = categorial_data_first.apply(LabelEncoder().fit_transform)\n",
    "# объединим категориальные и вещественные признаки в один датасет\n",
    "train_data_first = pd.DataFrame(np.hstack((numeric_data_first,categorial_data_first_encoded)))\n",
    "\n",
    "\n",
    "train_sizes, train_scores, test_scores = learning_curve(xgb.XGBClassifier(random_state=44, n_jobs=-1), train_data_first, labels_data_train, cv=5, scoring='roc_auc',\n",
    "                                                       train_sizes=[0.1, 0.2, 0.3, 0.4, 0.5, 0.6, 0.7, 0.8, 0.9, 1])\n",
    "plt.figure(figsize=(16,10))\n",
    "plt.plot(train_sizes, train_scores.mean(axis=1), label=u'Обучающая выборка')\n",
    "plt.plot(train_sizes, test_scores.mean(axis=1), label=u'Тестовая выборка')\n",
    "plt.xlabel(u'Размер выборки')\n",
    "plt.ylabel(u'ROC AUC')\n",
    "plt.legend(loc='best')\n",
    "plt.show()"
   ]
  },
  {
   "cell_type": "markdown",
   "metadata": {},
   "source": [
    "По графику видно, что метрика `ROC-AUC` растет на тестовой выборке с увеличением объема обучающей выборки до определенного момента. После метрика качество выходит на постоянный уровень на обучающей и тестовой выборке. Это говорит нам о том, что выборка порядка 20-25 тысяч объектов (или наша выборка размером в 32 тыс. объектов) вполне достаточна для построения модели с максимально возможным качеством."
   ]
  },
  {
   "cell_type": "markdown",
   "metadata": {},
   "source": [
    "### 3.2. Балансировка выборки по классам."
   ]
  },
  {
   "cell_type": "markdown",
   "metadata": {},
   "source": [
    "Часто несбалансированные по классам выборки приводят к различным проблемам при обучении моделей. Для решения этой проблемы попробуем по-разному обработать выборку, поиграть с распределением объектов по классам и сделать выводы о том, как соотношение классов влияет на качество модели."
   ]
  },
  {
   "cell_type": "markdown",
   "metadata": {},
   "source": [
    "#### Задание весов объектам выборки."
   ]
  },
  {
   "cell_type": "markdown",
   "metadata": {
    "collapsed": true
   },
   "source": [
    "Для задания весов объектов будем использовать параметр sample_weight в модели классификации XGBClassifier."
   ]
  },
  {
   "cell_type": "markdown",
   "metadata": {},
   "source": [
    "Используем определенную ранее функцию calculate_classification_metrics для подсчета и отображения метрик качества классификации."
   ]
  },
  {
   "cell_type": "markdown",
   "metadata": {},
   "source": [
    "Зададим стратегию кросс-валидации с разбиением на 5 фолдов."
   ]
  },
  {
   "cell_type": "code",
   "execution_count": 26,
   "metadata": {
    "collapsed": true
   },
   "outputs": [],
   "source": [
    "cross_val_strategy_weight = StratifiedKFold(n_splits=5, random_state=55)"
   ]
  },
  {
   "cell_type": "markdown",
   "metadata": {},
   "source": [
    "По посчитанным ранее данным положительный класс составляет 7.4%, отрицательный 92.6% (соотношение отрицательного и положительного классов составляет 13:1). На основании этих данных сделаем 3 варианта задания весов объектам для получения разного соотношения классов."
   ]
  },
  {
   "cell_type": "code",
   "execution_count": 40,
   "metadata": {},
   "outputs": [
    {
     "name": "stdout",
     "output_type": "stream",
     "text": [
      "ROC-AUC: 0.7401485238573005\n",
      "PR-AUC: 0.218097532291864\n",
      "Accuracy: 0.9258124999999999\n",
      "Precision: 0.597121212121212\n",
      "Recall: 0.010497154836777479\n",
      "F1-score: 0.02061390697393608\n",
      "Wall time: 3min 18s\n"
     ]
    }
   ],
   "source": [
    "%%time\n",
    "# 1 вариант соотношение отрицательного и положительного класса 3 к 1.\n",
    "weight_objects = {-1: 3, 1: 1}\n",
    "roc_auc, pr_auc, precision, recall, f1_score, models = calculate_classification_metrics(xgb.XGBClassifier(random_state=44, sample_weight=weight_objects, n_jobs=-1), cross_val_strategy_weight, train_data_first, labels_data_train)"
   ]
  },
  {
   "cell_type": "code",
   "execution_count": 41,
   "metadata": {},
   "outputs": [
    {
     "name": "stdout",
     "output_type": "stream",
     "text": [
      "ROC-AUC: 0.7401485238573005\n",
      "PR-AUC: 0.218097532291864\n",
      "Accuracy: 0.9258124999999999\n",
      "Precision: 0.597121212121212\n",
      "Recall: 0.010497154836777479\n",
      "F1-score: 0.02061390697393608\n",
      "Wall time: 2min 49s\n"
     ]
    }
   ],
   "source": [
    "%%time\n",
    "# 2 вариант соотношения отрицательного и положительного класса равны.\n",
    "roc_auc, pr_auc, precision, recall, f1_score, models = calculate_classification_metrics(xgb.XGBClassifier(random_state=44, sample_weight=weight_objects, n_jobs=-1), cross_val_strategy_weight, train_data_first, labels_data_train)"
   ]
  },
  {
   "cell_type": "code",
   "execution_count": 127,
   "metadata": {},
   "outputs": [
    {
     "name": "stdout",
     "output_type": "stream",
     "text": [
      "ROC-AUC: 0.7401485238573005\n",
      "PR-AUC: 0.218097532291864\n",
      "Accuracy: 0.9258124999999999\n",
      "Precision: 0.597121212121212\n",
      "Recall: 0.010497154836777479\n",
      "F1-score: 0.02061390697393608\n",
      "Wall time: 2min 45s\n"
     ]
    }
   ],
   "source": [
    "%%time\n",
    "# 3 вариант соотношение отрицательного и положительного класса 1 к 5.\n",
    "weight_objects = {-1: 1, 1: 5}\n",
    "roc_auc, pr_auc, precision, recall, f1_score, models = calculate_classification_metrics(xgb.XGBClassifier(random_state=44, sample_weight=weight_objects, n_jobs=-1), cross_val_strategy_weight, train_data_first, labels_data_train)"
   ]
  },
  {
   "cell_type": "markdown",
   "metadata": {},
   "source": [
    "Изменение весов объектов не влияет на изменение метрик для модели XGBClassifier."
   ]
  },
  {
   "cell_type": "markdown",
   "metadata": {},
   "source": [
    "#### Undersampling и Oversampling."
   ]
  },
  {
   "cell_type": "markdown",
   "metadata": {},
   "source": [
    "Применим к нашей выборке технологию undersampling: для этого уберем из обучения некоторое количество объектов класса `не отток`, таким образом, чтобы соотношение классов изменилось."
   ]
  },
  {
   "cell_type": "markdown",
   "metadata": {},
   "source": [
    "Посичтаем соотношение класса `отток` и `не отток` и разделим объекты классов по индексам."
   ]
  },
  {
   "cell_type": "code",
   "execution_count": 96,
   "metadata": {},
   "outputs": [
    {
     "data": {
      "text/plain": [
       "2381"
      ]
     },
     "execution_count": 96,
     "metadata": {},
     "output_type": "execute_result"
    },
    {
     "data": {
      "text/plain": [
       "29619"
      ]
     },
     "execution_count": 96,
     "metadata": {},
     "output_type": "execute_result"
    }
   ],
   "source": [
    "idx_negative = train_data_first[labels_data_train == 1].index.tolist()\n",
    "idx_positive = train_data_first[labels_data_train == -1].index.tolist()\n",
    "len(idx_negative)\n",
    "len(idx_positive)"
   ]
  },
  {
   "cell_type": "markdown",
   "metadata": {},
   "source": [
    "Вариант 1. Сделаем количество объектов класса `отток` в 2 раза меньше количества объектов класса `не отток`."
   ]
  },
  {
   "cell_type": "code",
   "execution_count": 100,
   "metadata": {},
   "outputs": [
    {
     "data": {
      "text/plain": [
       "14809"
      ]
     },
     "execution_count": 100,
     "metadata": {},
     "output_type": "execute_result"
    }
   ],
   "source": [
    "case_1_sample = list(np.random.choice(idx_negative, len(idx_positive)//2))\n",
    "len(case_1_sample)"
   ]
  },
  {
   "cell_type": "code",
   "execution_count": 101,
   "metadata": {},
   "outputs": [
    {
     "name": "stdout",
     "output_type": "stream",
     "text": [
      "ROC-AUC: 0.7853130400666782\n",
      "PR-AUC: 0.6360558737271287\n",
      "Accuracy: 0.7369225597643939\n",
      "Precision: 0.6831060406452494\n",
      "Recall: 0.39293630612319824\n",
      "F1-score: 0.49883118193057996\n",
      "Wall time: 3min 10s\n"
     ]
    }
   ],
   "source": [
    "%%time\n",
    "roc_auc, pr_auc, precision, recall, f1_score, models = calculate_classification_metrics(xgb.XGBClassifier(random_state=44, n_jobs=-1), \n",
    "                                                                                        cross_val_strategy_weight, \n",
    "                                                                                        train_data_first.ix[case_1_sample+idx_positive],\n",
    "                                                                                        labels_data_train[case_1_sample+idx_positive])"
   ]
  },
  {
   "cell_type": "markdown",
   "metadata": {},
   "source": [
    "Вариант 2. Сделаем равное количество объектов класса `не отток` и объектов класса `отток`."
   ]
  },
  {
   "cell_type": "code",
   "execution_count": 91,
   "metadata": {},
   "outputs": [
    {
     "data": {
      "text/plain": [
       "29619"
      ]
     },
     "execution_count": 91,
     "metadata": {},
     "output_type": "execute_result"
    }
   ],
   "source": [
    "case_2_sample = list(np.random.choice(idx_negative, len(idx_positive)))\n",
    "len(case_2_sample)"
   ]
  },
  {
   "cell_type": "code",
   "execution_count": 92,
   "metadata": {},
   "outputs": [
    {
     "name": "stdout",
     "output_type": "stream",
     "text": [
      "ROC-AUC: 0.7860615300764511\n",
      "PR-AUC: 0.7691911558506813\n",
      "Accuracy: 0.7083290957570834\n",
      "Precision: 0.698487247511876\n",
      "Recall: 0.7331781609201954\n",
      "F1-score: 0.7154043566695545\n",
      "Wall time: 4min 19s\n"
     ]
    }
   ],
   "source": [
    "%%time\n",
    "roc_auc, pr_auc, precision, recall, f1_score, models = calculate_classification_metrics(xgb.XGBClassifier(random_state=44, n_jobs=-1), \n",
    "                                                                                        cross_val_strategy_weight, \n",
    "                                                                                        train_data_first.ix[case_2_sample+idx_positive],\n",
    "                                                                                        labels_data_train[case_2_sample+idx_positive])"
   ]
  },
  {
   "cell_type": "markdown",
   "metadata": {},
   "source": [
    "Вариант 3. Сделаем количество объектов класса `отток` в 1,5 раза больше количества объектов класса `не отток`."
   ]
  },
  {
   "cell_type": "code",
   "execution_count": 108,
   "metadata": {},
   "outputs": [
    {
     "data": {
      "text/plain": [
       "44428"
      ]
     },
     "execution_count": 108,
     "metadata": {},
     "output_type": "execute_result"
    }
   ],
   "source": [
    "case_3_sample = list(np.random.choice(idx_negative, int(1.5*len(idx_positive))))\n",
    "len(case_3_sample)"
   ]
  },
  {
   "cell_type": "code",
   "execution_count": 109,
   "metadata": {},
   "outputs": [
    {
     "name": "stdout",
     "output_type": "stream",
     "text": [
      "ROC-AUC: 0.7876056793859296\n",
      "PR-AUC: 0.8310291785591011\n",
      "Accuracy: 0.726551987725405\n",
      "Precision: 0.7259950625425818\n",
      "Recall: 0.8742459498549184\n",
      "F1-score: 0.7932456694100689\n",
      "Wall time: 5min 11s\n"
     ]
    }
   ],
   "source": [
    "%%time\n",
    "roc_auc, pr_auc, precision, recall, f1_score, models = calculate_classification_metrics(xgb.XGBClassifier(random_state=44, n_jobs=-1), \n",
    "                                                                                        cross_val_strategy_weight, \n",
    "                                                                                        train_data_first.ix[case_3_sample+idx_positive],\n",
    "                                                                                        labels_data_train[case_3_sample+idx_positive])"
   ]
  },
  {
   "cell_type": "markdown",
   "metadata": {},
   "source": [
    "Балансировка классов не оказыает существенное влияние на метрику ROC-AUC (что известно из определения метрики ROC-AUC). Зато баланс классов существенно изменяет значения метрик `точность (precision)` и `полнота (recall)`. Налиучший результат показал случай, когда представителей класса `отток` в 1,5 раза больше, чем  в классе `не отток` (исходное соотношение классов в выборке 13:1)."
   ]
  },
  {
   "cell_type": "markdown",
   "metadata": {},
   "source": [
    "### 3.3. Выбор стратегии обработки вещественных признаков."
   ]
  },
  {
   "cell_type": "markdown",
   "metadata": {},
   "source": [
    "Рассмотрим несколько стратегий для обработки пропущенных значений признаков. Сравним эти стратегии между собой с помощью оценки качества моделей на кросс-валидации, построенных на датасетах с использованием различных стратегий."
   ]
  },
  {
   "cell_type": "markdown",
   "metadata": {},
   "source": [
    "Поработаем отдельно с вещественными признаками и найдем лучшую стратегию с помощью оценки качества моделей по кросс-валидации."
   ]
  },
  {
   "cell_type": "code",
   "execution_count": 31,
   "metadata": {
    "collapsed": true
   },
   "outputs": [],
   "source": [
    "numeric_data_3_task = numeric_data_selected_train.copy()\n",
    "# удалим пустые значения столбцов\n",
    "numeric_data_3_task = numeric_data_3_task.dropna(axis=1,how='all')"
   ]
  },
  {
   "cell_type": "markdown",
   "metadata": {},
   "source": [
    "Вариант 1. Заполним пропущенные значения вещественных признаков средними значениями по столбцу."
   ]
  },
  {
   "cell_type": "code",
   "execution_count": 32,
   "metadata": {},
   "outputs": [
    {
     "name": "stdout",
     "output_type": "stream",
     "text": [
      "ROC-AUC: 0.7223471412811654\n",
      "PR-AUC: 0.1966720366619307\n",
      "Accuracy: 0.9259999999999999\n",
      "Precision: 0.75\n",
      "Recall: 0.005879710374715924\n",
      "F1-score: 0.011663223364684745\n",
      "Wall time: 1min 42s\n"
     ]
    }
   ],
   "source": [
    "%%time\n",
    "# заменяем пропущенные значения  вещественных признаков нулями\n",
    "numeric_data_3_task_mean = numeric_data_3_task.fillna(0)\n",
    "# заменяем пропущенные значения  вещественных признаков средними значенияи по столбцу\n",
    "numeric_data_3_task_mean = numeric_data_3_task_mean.fillna(numeric_data_3_task_mean.mean())\n",
    "# отмасштабируем значения вещественных признаков\n",
    "numeric_data_3_task_mean = pd.DataFrame(StandardScaler().fit_transform(numeric_data_3_task_mean))\n",
    "# посчитаем значения метрик с использованием модели логистической регрессии.\n",
    "roc_auc, pr_auc, precision, recall, f1_score, models = calculate_classification_metrics(xgb.XGBClassifier(random_state=44, n_jobs=-1), \n",
    "                                                                                        cross_val_strategy_weight, \n",
    "                                                                                        numeric_data_3_task_mean, \n",
    "                                                                                        labels_data_train)"
   ]
  },
  {
   "cell_type": "markdown",
   "metadata": {},
   "source": [
    "Вариант 2. Заполним пропущенные значения вещественных признаков нулевыми значениями."
   ]
  },
  {
   "cell_type": "code",
   "execution_count": 54,
   "metadata": {},
   "outputs": [
    {
     "name": "stdout",
     "output_type": "stream",
     "text": [
      "ROC-AUC: 0.7223471412811654\n",
      "PR-AUC: 0.1966720366619307\n",
      "Accuracy: 0.9259999999999999\n",
      "Precision: 0.75\n",
      "Recall: 0.005879710374715924\n",
      "F1-score: 0.011663223364684745\n",
      "Wall time: 1min 47s\n"
     ]
    }
   ],
   "source": [
    "%%time\n",
    "# заменяем пропущенные значения  вещественных признаков нулями\n",
    "numeric_data_3_task_null = numeric_data_3_task.fillna(0)\n",
    "# отмасштабируем значения вещественных признаков\n",
    "numeric_data_3_task_null = pd.DataFrame(StandardScaler().fit_transform(numeric_data_3_task_null))\n",
    "# посчитаем значения метрик с использованием модели логистической регрессии.\n",
    "roc_auc, pr_auc, precision, recall, f1_score, models = calculate_classification_metrics(xgb.XGBClassifier(random_state=44, n_jobs=-1), \n",
    "                                                                                        cross_val_strategy_weight, \n",
    "                                                                                        numeric_data_3_task_null, \n",
    "                                                                                        labels_data_train)"
   ]
  },
  {
   "cell_type": "markdown",
   "metadata": {},
   "source": [
    "Вариант 3. Заполним пропущенные значения вещественных признаков медианными значениями."
   ]
  },
  {
   "cell_type": "code",
   "execution_count": 33,
   "metadata": {},
   "outputs": [
    {
     "name": "stdout",
     "output_type": "stream",
     "text": [
      "ROC-AUC: 0.7223471412811654\n",
      "PR-AUC: 0.1966720366619307\n",
      "Accuracy: 0.9259999999999999\n",
      "Precision: 0.75\n",
      "Recall: 0.005879710374715924\n",
      "F1-score: 0.011663223364684745\n",
      "Wall time: 1min 39s\n"
     ]
    }
   ],
   "source": [
    "%%time\n",
    "# заменяем пропущенные значения  вещественных признаков нулями\n",
    "numeric_data_3_task_median = numeric_data_3_task.fillna(0)\n",
    "# заменяем пропущенные значения  вещественных признаков средними значениями по столбцу\n",
    "numeric_data_3_task_median = numeric_data_3_task_median.fillna(numeric_data_3_task_median.median())\n",
    "# отмасштабируем значения вещественных признаков\n",
    "numeric_data_3_task_median = pd.DataFrame(StandardScaler().fit_transform(numeric_data_3_task_median))\n",
    "# посчитаем значения метрик с использованием модели логистической регрессии.\n",
    "roc_auc, pr_auc, precision, recall, f1_score, models = calculate_classification_metrics(xgb.XGBClassifier(random_state=44, n_jobs=-1), \n",
    "                                                                                        cross_val_strategy_weight, \n",
    "                                                                                        numeric_data_3_task_median, \n",
    "                                                                                        labels_data_train)"
   ]
  },
  {
   "cell_type": "markdown",
   "metadata": {},
   "source": [
    "Рассмотренные варианты заполнения пропущенных значений вещественных признаков не оказывают влияния на качество модели, поэтому можно выбрать любой из рассмотренных вариантов. Выберем заполнение пропущенных значений вещественных признаков медианами по столбцу."
   ]
  },
  {
   "cell_type": "markdown",
   "metadata": {},
   "source": [
    "### 3.4. Выбор стратегии обработки категориальных признаков."
   ]
  },
  {
   "cell_type": "markdown",
   "metadata": {},
   "source": [
    "4\\. Рассмотрим несколько стратегий для обработки категориальных признаков. Сравним эти стратегии между собой с помощью оценки качества моделей по кросс-валидации."
   ]
  },
  {
   "cell_type": "markdown",
   "metadata": {},
   "source": [
    "Поработаем отдельно с категориальными признаками и найдем лучшую стратегию с помощью оценки качества моделей по кросс-валидации."
   ]
  },
  {
   "cell_type": "code",
   "execution_count": 34,
   "metadata": {
    "collapsed": true
   },
   "outputs": [],
   "source": [
    "categorial_data_first = categorial_data_selected_train.copy()"
   ]
  },
  {
   "cell_type": "markdown",
   "metadata": {},
   "source": [
    "Вариант 1. Рассмотрим dummy-кодирование на тех признаках, которые имеют не слишком много уникальных значений (не более 300 значений)."
   ]
  },
  {
   "cell_type": "code",
   "execution_count": 28,
   "metadata": {
    "collapsed": true
   },
   "outputs": [],
   "source": [
    "# обработаем категории\n",
    "categorial_data_first_dummy_select = categorial_data_first.dropna(axis=1,how='all').copy()\n",
    "# заменяем пропущенные значения  категориальных признаков еще обной категорие (так мы не потеряем информацию о признаках)\n",
    "categorial_data_first_dummy_select = categorial_data_first_dummy_select.fillna('NA').astype(str)\n",
    "# посчитаем количество уникальных значений и отберем те, где меньше 300 уникальных\n",
    "counts_of_different_value = pd.Series([len(categorial_data_first_dummy_select[categorial_data_first_dummy_select.columns[i]].value_counts()) \n",
    "                    for i in range(len(categorial_data_first_dummy_select.columns))], \n",
    "                   index = categorial_data_first_dummy_select.columns)\n",
    "vars_for_select_dummy = counts_of_different_value[counts_of_different_value <300].index\n",
    "# составим дамми переменные\n",
    "dummy_features_300 = pd.get_dummies(categorial_data_first_dummy_select[vars_for_select_dummy])\n",
    "# уберем дубликаты\n",
    "dummy_features_300 = dummy_features_300.T.drop_duplicates().T"
   ]
  },
  {
   "cell_type": "code",
   "execution_count": 29,
   "metadata": {},
   "outputs": [
    {
     "data": {
      "text/plain": [
       "(32000, 360)"
      ]
     },
     "execution_count": 29,
     "metadata": {},
     "output_type": "execute_result"
    }
   ],
   "source": [
    "dummy_features_300.shape"
   ]
  },
  {
   "cell_type": "code",
   "execution_count": 60,
   "metadata": {},
   "outputs": [
    {
     "name": "stdout",
     "output_type": "stream",
     "text": [
      "ROC-AUC: 0.7389729972307457\n",
      "PR-AUC: 0.22464177392207946\n",
      "Accuracy: 0.92596875\n",
      "Precision: 0.725\n",
      "Recall: 0.011339252682204957\n",
      "F1-score: 0.02226402088940517\n",
      "Wall time: 13min 20s\n"
     ]
    }
   ],
   "source": [
    "%%time\n",
    "roc_auc, pr_auc, precision, recall, f1_score, models = calculate_classification_metrics(xgb.XGBClassifier(random_state=44, n_jobs=-1), \n",
    "                                                                                        cross_val_strategy_weight, \n",
    "                                                                                        pd.concat([numeric_data_3_task_median,dummy_features_300], axis=1), \n",
    "                                                                                        labels_data_train)"
   ]
  },
  {
   "cell_type": "markdown",
   "metadata": {},
   "source": [
    "Вариант 2. Рассмотрим dummy-кодирование на тех признаках, которые имеют до 600 уникальных значений."
   ]
  },
  {
   "cell_type": "code",
   "execution_count": 61,
   "metadata": {
    "collapsed": true
   },
   "outputs": [],
   "source": [
    "# обработаем категории\n",
    "categorial_data_first_dummy_select = categorial_data_first.dropna(axis=1,how='all').copy()\n",
    "# заменяем пропущенные значения  категориальных признаков еще обной категорие (так мы не потеряем информацию о признаках)\n",
    "categorial_data_first_dummy_select = categorial_data_first_dummy_select.fillna('NA').astype(str)\n",
    "# посчитаем количество уникальных значений и отберем те, где меньше 600 уникальных\n",
    "counts_of_different_value = pd.Series([len(categorial_data_first_dummy_select[categorial_data_first_dummy_select.columns[i]].value_counts()) \n",
    "                    for i in range(len(categorial_data_first_dummy_select.columns))], \n",
    "                   index = categorial_data_first_dummy_select.columns)\n",
    "vars_for_select_dummy = counts_of_different_value[counts_of_different_value <600].index\n",
    "# составим дамми переменные\n",
    "dummy_features_600 = pd.get_dummies(categorial_data_first_dummy_select[vars_for_select_dummy])\n",
    "# уберем дубликаты\n",
    "dummy_features_600 = dummy_features_600.T.drop_duplicates().T"
   ]
  },
  {
   "cell_type": "code",
   "execution_count": 62,
   "metadata": {},
   "outputs": [
    {
     "data": {
      "text/plain": [
       "(32000, 706)"
      ]
     },
     "execution_count": 62,
     "metadata": {},
     "output_type": "execute_result"
    }
   ],
   "source": [
    "dummy_features_600.shape"
   ]
  },
  {
   "cell_type": "code",
   "execution_count": 64,
   "metadata": {},
   "outputs": [
    {
     "name": "stdout",
     "output_type": "stream",
     "text": [
      "ROC-AUC: 0.7392934378680174\n",
      "PR-AUC: 0.22467831540376304\n",
      "Accuracy: 0.92609375\n",
      "Precision: 0.7428571428571429\n",
      "Recall: 0.011758539893945002\n",
      "F1-score: 0.023122250975619145\n",
      "Wall time: 24min 23s\n"
     ]
    }
   ],
   "source": [
    "%%time\n",
    "roc_auc, pr_auc, precision, recall, f1_score, models = calculate_classification_metrics(xgb.XGBClassifier(random_state=44, n_jobs=-1), \n",
    "                                                                                        cross_val_strategy_weight, \n",
    "                                                                                        pd.concat([numeric_data_3_task_median,dummy_features_600], \n",
    "                                                                                                  axis=1), \n",
    "                                                                                        labels_data_train)"
   ]
  },
  {
   "cell_type": "markdown",
   "metadata": {},
   "source": [
    "Вариант 3. Рассмотрим LabelEncoder кодирование на всех категориальных признаках, за исключением тех, которые имеют все пропущенные значения."
   ]
  },
  {
   "cell_type": "code",
   "execution_count": 35,
   "metadata": {
    "collapsed": true
   },
   "outputs": [],
   "source": [
    "categorial_data_label_enc = categorial_data_first.dropna(axis=1,how='all').copy()\n",
    "categorial_data_label_enc = categorial_data_label_enc.fillna('NA').astype(str)\n",
    "categorial_data_label_enc = labelEncoder(categorial_data_label_enc) "
   ]
  },
  {
   "cell_type": "code",
   "execution_count": 36,
   "metadata": {},
   "outputs": [
    {
     "name": "stdout",
     "output_type": "stream",
     "text": [
      "ROC-AUC: 0.7368132196801762\n",
      "PR-AUC: 0.2201262406204723\n",
      "Accuracy: 0.92590625\n",
      "Precision: 0.6544444444444444\n",
      "Recall: 0.011337490971231259\n",
      "F1-score: 0.022246660983632767\n",
      "Wall time: 2min 42s\n"
     ]
    }
   ],
   "source": [
    "%%time\n",
    "roc_auc, pr_auc, precision, recall, f1_score, models = calculate_classification_metrics(xgb.XGBClassifier(random_state=44, n_jobs=-1), \n",
    "                                                                                        cross_val_strategy_weight, \n",
    "                                                                                        pd.concat([numeric_data_3_task_median,categorial_data_label_enc], \n",
    "                                                                                                  axis=1), \n",
    "                                                                                        labels_data_train)"
   ]
  },
  {
   "cell_type": "markdown",
   "metadata": {},
   "source": [
    "Наилучшее качество получилось с dummy - переменными для категориальных признаков с небольшим количеством значений, но если мы будем обобщать данный метод обработки признаков на данные для обучения и тестовые данные, то можем получить ситуацию с различным количеством обработанных категориальных признаков для обучения и теста. Поэтому оптимальным вариантом будет использовать метод LabelEncoder для обработки пропущенных признаков. "
   ]
  },
  {
   "cell_type": "markdown",
   "metadata": {},
   "source": [
    "### 3.5. Подберем оптимальные параметры для выбранной модели XGBClassifier."
   ]
  },
  {
   "cell_type": "markdown",
   "metadata": {},
   "source": [
    "В зависимости от того, как мы обрабатываем исходные данные, делаем ли балансировку классов, сколько объектов оставляем в обучающей выборке оптимальные значения параметров могут меняться. Возьмем наилучшее из имеющихся решений на текущий момент и проведите процедуру подбора параметров модели с использованием `sklearn.model_selection.GridSearchCV`."
   ]
  },
  {
   "cell_type": "markdown",
   "metadata": {},
   "source": [
    "В качестве признаков возьмем наиболее коррелирующие признаки из пункта 1."
   ]
  },
  {
   "cell_type": "code",
   "execution_count": 58,
   "metadata": {
    "scrolled": true
   },
   "outputs": [
    {
     "data": {
      "text/html": [
       "<div>\n",
       "<style scoped>\n",
       "    .dataframe tbody tr th:only-of-type {\n",
       "        vertical-align: middle;\n",
       "    }\n",
       "\n",
       "    .dataframe tbody tr th {\n",
       "        vertical-align: top;\n",
       "    }\n",
       "\n",
       "    .dataframe thead th {\n",
       "        text-align: right;\n",
       "    }\n",
       "</style>\n",
       "<table border=\"1\" class=\"dataframe\">\n",
       "  <thead>\n",
       "    <tr style=\"text-align: right;\">\n",
       "      <th></th>\n",
       "      <th>Var189</th>\n",
       "      <th>Var74</th>\n",
       "      <th>Var13</th>\n",
       "      <th>Var7</th>\n",
       "      <th>Var140</th>\n",
       "      <th>Var125</th>\n",
       "      <th>Var126</th>\n",
       "      <th>Var73</th>\n",
       "      <th>Var6</th>\n",
       "      <th>Var65</th>\n",
       "      <th>...</th>\n",
       "      <th>Var22</th>\n",
       "      <th>Var25</th>\n",
       "      <th>Var28</th>\n",
       "      <th>Var85</th>\n",
       "      <th>Var188</th>\n",
       "      <th>Var94</th>\n",
       "      <th>Var24</th>\n",
       "      <th>Var109</th>\n",
       "      <th>Var38</th>\n",
       "      <th>Var53</th>\n",
       "    </tr>\n",
       "  </thead>\n",
       "  <tbody>\n",
       "    <tr>\n",
       "      <th>0</th>\n",
       "      <td>0.0</td>\n",
       "      <td>0.0</td>\n",
       "      <td>0.0</td>\n",
       "      <td>0.0</td>\n",
       "      <td>0.0</td>\n",
       "      <td>4923.0</td>\n",
       "      <td>0.0</td>\n",
       "      <td>48.0</td>\n",
       "      <td>168.0</td>\n",
       "      <td>9.0</td>\n",
       "      <td>...</td>\n",
       "      <td>120.0</td>\n",
       "      <td>96.0</td>\n",
       "      <td>133.12</td>\n",
       "      <td>0.0</td>\n",
       "      <td>0.0</td>\n",
       "      <td>0.0</td>\n",
       "      <td>0.0</td>\n",
       "      <td>0.0</td>\n",
       "      <td>0.0</td>\n",
       "      <td>0.0</td>\n",
       "    </tr>\n",
       "    <tr>\n",
       "      <th>1</th>\n",
       "      <td>318.0</td>\n",
       "      <td>182.0</td>\n",
       "      <td>820.0</td>\n",
       "      <td>7.0</td>\n",
       "      <td>5500.0</td>\n",
       "      <td>4869.0</td>\n",
       "      <td>-24.0</td>\n",
       "      <td>86.0</td>\n",
       "      <td>1155.0</td>\n",
       "      <td>18.0</td>\n",
       "      <td>...</td>\n",
       "      <td>380.0</td>\n",
       "      <td>48.0</td>\n",
       "      <td>253.52</td>\n",
       "      <td>0.0</td>\n",
       "      <td>0.0</td>\n",
       "      <td>253872.0</td>\n",
       "      <td>0.0</td>\n",
       "      <td>8.0</td>\n",
       "      <td>2740026.0</td>\n",
       "      <td>0.0</td>\n",
       "    </tr>\n",
       "    <tr>\n",
       "      <th>2</th>\n",
       "      <td>156.0</td>\n",
       "      <td>14.0</td>\n",
       "      <td>4.0</td>\n",
       "      <td>7.0</td>\n",
       "      <td>45.0</td>\n",
       "      <td>171.0</td>\n",
       "      <td>-28.0</td>\n",
       "      <td>32.0</td>\n",
       "      <td>686.0</td>\n",
       "      <td>9.0</td>\n",
       "      <td>...</td>\n",
       "      <td>170.0</td>\n",
       "      <td>64.0</td>\n",
       "      <td>253.52</td>\n",
       "      <td>6.0</td>\n",
       "      <td>0.0</td>\n",
       "      <td>1374.0</td>\n",
       "      <td>4.0</td>\n",
       "      <td>32.0</td>\n",
       "      <td>2858460.0</td>\n",
       "      <td>0.0</td>\n",
       "    </tr>\n",
       "    <tr>\n",
       "      <th>3</th>\n",
       "      <td>0.0</td>\n",
       "      <td>238.0</td>\n",
       "      <td>300.0</td>\n",
       "      <td>7.0</td>\n",
       "      <td>265.0</td>\n",
       "      <td>8001.0</td>\n",
       "      <td>0.0</td>\n",
       "      <td>42.0</td>\n",
       "      <td>798.0</td>\n",
       "      <td>9.0</td>\n",
       "      <td>...</td>\n",
       "      <td>170.0</td>\n",
       "      <td>32.0</td>\n",
       "      <td>186.64</td>\n",
       "      <td>4.0</td>\n",
       "      <td>0.0</td>\n",
       "      <td>0.0</td>\n",
       "      <td>2.0</td>\n",
       "      <td>32.0</td>\n",
       "      <td>6336420.0</td>\n",
       "      <td>0.0</td>\n",
       "    </tr>\n",
       "    <tr>\n",
       "      <th>4</th>\n",
       "      <td>360.0</td>\n",
       "      <td>49.0</td>\n",
       "      <td>1080.0</td>\n",
       "      <td>7.0</td>\n",
       "      <td>9455.0</td>\n",
       "      <td>551979.0</td>\n",
       "      <td>32.0</td>\n",
       "      <td>56.0</td>\n",
       "      <td>3108.0</td>\n",
       "      <td>9.0</td>\n",
       "      <td>...</td>\n",
       "      <td>510.0</td>\n",
       "      <td>280.0</td>\n",
       "      <td>233.44</td>\n",
       "      <td>34.0</td>\n",
       "      <td>0.0</td>\n",
       "      <td>447552.0</td>\n",
       "      <td>12.0</td>\n",
       "      <td>144.0</td>\n",
       "      <td>0.0</td>\n",
       "      <td>0.0</td>\n",
       "    </tr>\n",
       "  </tbody>\n",
       "</table>\n",
       "<p>5 rows × 28 columns</p>\n",
       "</div>"
      ],
      "text/plain": [
       "   Var189  Var74   Var13  Var7  Var140    Var125  Var126  Var73    Var6  \\\n",
       "0     0.0    0.0     0.0   0.0     0.0    4923.0     0.0   48.0   168.0   \n",
       "1   318.0  182.0   820.0   7.0  5500.0    4869.0   -24.0   86.0  1155.0   \n",
       "2   156.0   14.0     4.0   7.0    45.0     171.0   -28.0   32.0   686.0   \n",
       "3     0.0  238.0   300.0   7.0   265.0    8001.0     0.0   42.0   798.0   \n",
       "4   360.0   49.0  1080.0   7.0  9455.0  551979.0    32.0   56.0  3108.0   \n",
       "\n",
       "   Var65  ...  Var22  Var25   Var28  Var85  Var188     Var94  Var24  Var109  \\\n",
       "0    9.0  ...  120.0   96.0  133.12    0.0     0.0       0.0    0.0     0.0   \n",
       "1   18.0  ...  380.0   48.0  253.52    0.0     0.0  253872.0    0.0     8.0   \n",
       "2    9.0  ...  170.0   64.0  253.52    6.0     0.0    1374.0    4.0    32.0   \n",
       "3    9.0  ...  170.0   32.0  186.64    4.0     0.0       0.0    2.0    32.0   \n",
       "4    9.0  ...  510.0  280.0  233.44   34.0     0.0  447552.0   12.0   144.0   \n",
       "\n",
       "       Var38  Var53  \n",
       "0        0.0    0.0  \n",
       "1  2740026.0    0.0  \n",
       "2  2858460.0    0.0  \n",
       "3  6336420.0    0.0  \n",
       "4        0.0    0.0  \n",
       "\n",
       "[5 rows x 28 columns]"
      ]
     },
     "execution_count": 58,
     "metadata": {},
     "output_type": "execute_result"
    },
    {
     "data": {
      "text/html": [
       "<div>\n",
       "<style scoped>\n",
       "    .dataframe tbody tr th:only-of-type {\n",
       "        vertical-align: middle;\n",
       "    }\n",
       "\n",
       "    .dataframe tbody tr th {\n",
       "        vertical-align: top;\n",
       "    }\n",
       "\n",
       "    .dataframe thead th {\n",
       "        text-align: right;\n",
       "    }\n",
       "</style>\n",
       "<table border=\"1\" class=\"dataframe\">\n",
       "  <thead>\n",
       "    <tr style=\"text-align: right;\">\n",
       "      <th></th>\n",
       "      <th>Var213</th>\n",
       "      <th>Var194</th>\n",
       "      <th>Var191</th>\n",
       "      <th>Var201</th>\n",
       "      <th>Var216</th>\n",
       "      <th>Var204</th>\n",
       "      <th>Var211</th>\n",
       "      <th>Var226</th>\n",
       "      <th>Var193</th>\n",
       "      <th>Var210</th>\n",
       "      <th>...</th>\n",
       "      <th>Var225</th>\n",
       "      <th>Var212</th>\n",
       "      <th>Var227</th>\n",
       "      <th>Var228</th>\n",
       "      <th>Var229</th>\n",
       "      <th>Var205</th>\n",
       "      <th>Var206</th>\n",
       "      <th>Var192</th>\n",
       "      <th>Var199</th>\n",
       "      <th>Var218</th>\n",
       "    </tr>\n",
       "  </thead>\n",
       "  <tbody>\n",
       "    <tr>\n",
       "      <th>0</th>\n",
       "      <td>NaN</td>\n",
       "      <td>NaN</td>\n",
       "      <td>NaN</td>\n",
       "      <td>NaN</td>\n",
       "      <td>TDcECyH</td>\n",
       "      <td>t_4G</td>\n",
       "      <td>L84s</td>\n",
       "      <td>Qu4f</td>\n",
       "      <td>RO12</td>\n",
       "      <td>uKAI</td>\n",
       "      <td>...</td>\n",
       "      <td>ELof</td>\n",
       "      <td>NhsEn4L</td>\n",
       "      <td>RAYp</td>\n",
       "      <td>F2FyR07IdsN7I</td>\n",
       "      <td>mj86</td>\n",
       "      <td>VpdQ</td>\n",
       "      <td>IYzP</td>\n",
       "      <td>eOQt0GoOh3</td>\n",
       "      <td>h3WsUQk</td>\n",
       "      <td>cJvF</td>\n",
       "    </tr>\n",
       "    <tr>\n",
       "      <th>1</th>\n",
       "      <td>NaN</td>\n",
       "      <td>NaN</td>\n",
       "      <td>NaN</td>\n",
       "      <td>NaN</td>\n",
       "      <td>XTbPUYD</td>\n",
       "      <td>rGJy</td>\n",
       "      <td>Mtgm</td>\n",
       "      <td>Qu4f</td>\n",
       "      <td>RO12</td>\n",
       "      <td>uKAI</td>\n",
       "      <td>...</td>\n",
       "      <td>ELof</td>\n",
       "      <td>XfqtO3UdzaXh_</td>\n",
       "      <td>RAYp</td>\n",
       "      <td>F2FyR07IdsN7I</td>\n",
       "      <td>am7c</td>\n",
       "      <td>09_Q</td>\n",
       "      <td>lVqb</td>\n",
       "      <td>yaKt0Go8Lb</td>\n",
       "      <td>daiGnRstPa</td>\n",
       "      <td>UYBR</td>\n",
       "    </tr>\n",
       "    <tr>\n",
       "      <th>2</th>\n",
       "      <td>NaN</td>\n",
       "      <td>NaN</td>\n",
       "      <td>NaN</td>\n",
       "      <td>NaN</td>\n",
       "      <td>NGZXfGp</td>\n",
       "      <td>k13i</td>\n",
       "      <td>L84s</td>\n",
       "      <td>fKCe</td>\n",
       "      <td>RO12</td>\n",
       "      <td>uKAI</td>\n",
       "      <td>...</td>\n",
       "      <td>NaN</td>\n",
       "      <td>NhsEn4L</td>\n",
       "      <td>RAYp</td>\n",
       "      <td>F2FyR07IdsN7I</td>\n",
       "      <td>NaN</td>\n",
       "      <td>sJzTlal</td>\n",
       "      <td>zm5i</td>\n",
       "      <td>6m0t0G8rTN</td>\n",
       "      <td>k2w937Sptb8I4AR_</td>\n",
       "      <td>cJvF</td>\n",
       "    </tr>\n",
       "    <tr>\n",
       "      <th>3</th>\n",
       "      <td>NaN</td>\n",
       "      <td>NaN</td>\n",
       "      <td>NaN</td>\n",
       "      <td>NaN</td>\n",
       "      <td>mAja5EA</td>\n",
       "      <td>Y9Bl</td>\n",
       "      <td>L84s</td>\n",
       "      <td>uWr3</td>\n",
       "      <td>RO12</td>\n",
       "      <td>uKAI</td>\n",
       "      <td>...</td>\n",
       "      <td>NaN</td>\n",
       "      <td>NhsEn4L</td>\n",
       "      <td>RAYp</td>\n",
       "      <td>F2FyR07IdsN7I</td>\n",
       "      <td>NaN</td>\n",
       "      <td>NaN</td>\n",
       "      <td>zm5i</td>\n",
       "      <td>EsYq9aX0Db</td>\n",
       "      <td>UFIZdCX</td>\n",
       "      <td>UYBR</td>\n",
       "    </tr>\n",
       "    <tr>\n",
       "      <th>4</th>\n",
       "      <td>NaN</td>\n",
       "      <td>NaN</td>\n",
       "      <td>NaN</td>\n",
       "      <td>NaN</td>\n",
       "      <td>kq0n8Bj</td>\n",
       "      <td>e7QV</td>\n",
       "      <td>L84s</td>\n",
       "      <td>fKCe</td>\n",
       "      <td>RO12</td>\n",
       "      <td>uKAI</td>\n",
       "      <td>...</td>\n",
       "      <td>ELof</td>\n",
       "      <td>NhsEn4L</td>\n",
       "      <td>RAYp</td>\n",
       "      <td>F2FyR07IdsN7I</td>\n",
       "      <td>NaN</td>\n",
       "      <td>VpdQ</td>\n",
       "      <td>sYC_</td>\n",
       "      <td>6m0t0G8rTN</td>\n",
       "      <td>k10MzgT</td>\n",
       "      <td>cJvF</td>\n",
       "    </tr>\n",
       "  </tbody>\n",
       "</table>\n",
       "<p>5 rows × 22 columns</p>\n",
       "</div>"
      ],
      "text/plain": [
       "  Var213 Var194 Var191 Var201   Var216 Var204 Var211 Var226 Var193 Var210  \\\n",
       "0    NaN    NaN    NaN    NaN  TDcECyH   t_4G   L84s   Qu4f   RO12   uKAI   \n",
       "1    NaN    NaN    NaN    NaN  XTbPUYD   rGJy   Mtgm   Qu4f   RO12   uKAI   \n",
       "2    NaN    NaN    NaN    NaN  NGZXfGp   k13i   L84s   fKCe   RO12   uKAI   \n",
       "3    NaN    NaN    NaN    NaN  mAja5EA   Y9Bl   L84s   uWr3   RO12   uKAI   \n",
       "4    NaN    NaN    NaN    NaN  kq0n8Bj   e7QV   L84s   fKCe   RO12   uKAI   \n",
       "\n",
       "   ... Var225         Var212 Var227         Var228 Var229   Var205 Var206  \\\n",
       "0  ...   ELof        NhsEn4L   RAYp  F2FyR07IdsN7I   mj86     VpdQ   IYzP   \n",
       "1  ...   ELof  XfqtO3UdzaXh_   RAYp  F2FyR07IdsN7I   am7c     09_Q   lVqb   \n",
       "2  ...    NaN        NhsEn4L   RAYp  F2FyR07IdsN7I    NaN  sJzTlal   zm5i   \n",
       "3  ...    NaN        NhsEn4L   RAYp  F2FyR07IdsN7I    NaN      NaN   zm5i   \n",
       "4  ...   ELof        NhsEn4L   RAYp  F2FyR07IdsN7I    NaN     VpdQ   sYC_   \n",
       "\n",
       "       Var192            Var199 Var218  \n",
       "0  eOQt0GoOh3           h3WsUQk   cJvF  \n",
       "1  yaKt0Go8Lb        daiGnRstPa   UYBR  \n",
       "2  6m0t0G8rTN  k2w937Sptb8I4AR_   cJvF  \n",
       "3  EsYq9aX0Db           UFIZdCX   UYBR  \n",
       "4  6m0t0G8rTN           k10MzgT   cJvF  \n",
       "\n",
       "[5 rows x 22 columns]"
      ]
     },
     "execution_count": 58,
     "metadata": {},
     "output_type": "execute_result"
    }
   ],
   "source": [
    "numeric_data_selected_train.head()\n",
    "categorial_data_selected_train.head()"
   ]
  },
  {
   "cell_type": "markdown",
   "metadata": {},
   "source": [
    "Вещественные признаки."
   ]
  },
  {
   "cell_type": "code",
   "execution_count": 59,
   "metadata": {
    "collapsed": true
   },
   "outputs": [],
   "source": [
    "# заменяем пропущенные значения  вещественных признаков нулями\n",
    "numeric_data_selected_train = numeric_data_selected_train.fillna(0)\n",
    "# заменяем пропущенные значения  вещественных признаков средними значениями по столбцу\n",
    "numeric_data_selected_train = numeric_data_selected_train.fillna(numeric_data_selected_train.median())"
   ]
  },
  {
   "cell_type": "markdown",
   "metadata": {},
   "source": [
    "Категориальные признаки."
   ]
  },
  {
   "cell_type": "code",
   "execution_count": 60,
   "metadata": {
    "collapsed": true
   },
   "outputs": [],
   "source": [
    "categorial_data_select_for_model = categorial_data_selected_train.dropna(axis=1,how='all').copy()\n",
    "# заменяем пропущенные значения  категориальных признаков еще обной категорие (так мы не потеряем информацию о признаках)\n",
    "categorial_data_select_for_model = categorial_data_select_for_model.fillna('NA').astype(str)\n",
    "# обработаем категориальные признаки с использованием метода LabelEncoder\n",
    "categorial_data_select_for_model = labelEncoder(categorial_data_select_for_model) "
   ]
  },
  {
   "cell_type": "markdown",
   "metadata": {},
   "source": [
    "Объединим все в один датасет."
   ]
  },
  {
   "cell_type": "code",
   "execution_count": 61,
   "metadata": {},
   "outputs": [
    {
     "data": {
      "text/plain": [
       "(32000, 50)"
      ]
     },
     "execution_count": 61,
     "metadata": {},
     "output_type": "execute_result"
    }
   ],
   "source": [
    "result_dataset = pd.concat([numeric_data_selected_train, categorial_data_select_for_model],axis=1)\n",
    "result_dataset.shape"
   ]
  },
  {
   "cell_type": "markdown",
   "metadata": {},
   "source": [
    "Сделаем соотношение класса `отток` и `не отток` 1 к 2."
   ]
  },
  {
   "cell_type": "code",
   "execution_count": 62,
   "metadata": {},
   "outputs": [
    {
     "data": {
      "text/plain": [
       "14286"
      ]
     },
     "execution_count": 62,
     "metadata": {},
     "output_type": "execute_result"
    },
    {
     "data": {
      "text/plain": [
       "7143"
      ]
     },
     "execution_count": 62,
     "metadata": {},
     "output_type": "execute_result"
    }
   ],
   "source": [
    "negative_class = list(np.random.choice(idx_negative, 6*len(idx_negative)))\n",
    "len(negative_class)\n",
    "positive_class = list(np.random.choice(idx_positive, 3*len(idx_negative)))\n",
    "len(positive_class)"
   ]
  },
  {
   "cell_type": "code",
   "execution_count": 120,
   "metadata": {},
   "outputs": [
    {
     "name": "stdout",
     "output_type": "stream",
     "text": [
      "ROC-AUC: 0.7809228825834768\n",
      "PR-AUC: 0.8609624299811989\n",
      "Accuracy: 0.7489852309270466\n",
      "Precision: 0.7514629069470384\n",
      "Recall: 0.9317505348596132\n",
      "F1-score: 0.8319185926845123\n",
      "Wall time: 6min 35s\n"
     ]
    }
   ],
   "source": [
    "%%time\n",
    "roc_auc, pr_auc, precision, recall, f1_score, models = calculate_classification_metrics(xgb.XGBClassifier(random_state=44, n_jobs=-1), \n",
    "                                                                                        cross_val_strategy_weight, \n",
    "                                                                                        result_dataset.ix[negative_class+positive_class],\n",
    "                                                                                        labels_data_train[negative_class+positive_class])"
   ]
  },
  {
   "cell_type": "markdown",
   "metadata": {},
   "source": [
    "Итоговый датасет для подбора параметров модели."
   ]
  },
  {
   "cell_type": "code",
   "execution_count": 127,
   "metadata": {
    "collapsed": true
   },
   "outputs": [],
   "source": [
    "dataset_for_our_model = result_dataset.ix[negative_class+positive_class]\n",
    "labels_data = labels_data_train[negative_class+positive_class]"
   ]
  },
  {
   "cell_type": "code",
   "execution_count": 128,
   "metadata": {},
   "outputs": [
    {
     "data": {
      "text/plain": [
       "{'base_score': 0.5,\n",
       " 'booster': 'gbtree',\n",
       " 'colsample_bylevel': 1,\n",
       " 'colsample_bytree': 1,\n",
       " 'gamma': 0,\n",
       " 'learning_rate': 0.1,\n",
       " 'max_delta_step': 0,\n",
       " 'max_depth': 3,\n",
       " 'min_child_weight': 1,\n",
       " 'missing': None,\n",
       " 'n_estimators': 100,\n",
       " 'n_jobs': -1,\n",
       " 'nthread': None,\n",
       " 'objective': 'binary:logistic',\n",
       " 'random_state': 44,\n",
       " 'reg_alpha': 0,\n",
       " 'reg_lambda': 1,\n",
       " 'scale_pos_weight': 1,\n",
       " 'seed': None,\n",
       " 'silent': True,\n",
       " 'subsample': 1}"
      ]
     },
     "execution_count": 128,
     "metadata": {},
     "output_type": "execute_result"
    }
   ],
   "source": [
    "xgboost_classif_select_param = xgb.XGBClassifier(random_state=44, n_jobs=-1)\n",
    "xgboost_classif_select_param.get_params()"
   ]
  },
  {
   "cell_type": "markdown",
   "metadata": {},
   "source": [
    "Добавим подбор параметров по сетке с использованием метода `GridSearchCV` библиотеки `sklearn`."
   ]
  },
  {
   "cell_type": "code",
   "execution_count": 129,
   "metadata": {
    "collapsed": true
   },
   "outputs": [],
   "source": [
    "parameters_grid = {\n",
    "    'learning_rate' : [0.05, 0.1],\n",
    "    'max_depth' : [3,4,5],\n",
    "    'n_estimators' : [200, 300, 400],\n",
    "    'subsample' : [0.7, 0.85, 1],\n",
    "}"
   ]
  },
  {
   "cell_type": "code",
   "execution_count": 130,
   "metadata": {},
   "outputs": [
    {
     "name": "stdout",
     "output_type": "stream",
     "text": [
      "Wall time: 2h 56min 29s\n"
     ]
    }
   ],
   "source": [
    "%%time\n",
    "grid_search_cv = GridSearchCV(xgboost_classif_select_param, parameters_grid, scoring='roc_auc', n_jobs=-1, cv=cross_val_strategy_weight)\n",
    "grid_search_cv.fit(dataset_for_our_model, labels_data)"
   ]
  },
  {
   "cell_type": "markdown",
   "metadata": {},
   "source": [
    "Отобразим лучшие параметры модели."
   ]
  },
  {
   "cell_type": "code",
   "execution_count": 131,
   "metadata": {},
   "outputs": [
    {
     "data": {
      "text/plain": [
       "{'learning_rate': 0.1, 'max_depth': 5, 'n_estimators': 400, 'subsample': 0.7}"
      ]
     },
     "execution_count": 131,
     "metadata": {},
     "output_type": "execute_result"
    }
   ],
   "source": [
    "grid_search_cv.best_params_"
   ]
  },
  {
   "cell_type": "code",
   "execution_count": 132,
   "metadata": {},
   "outputs": [
    {
     "data": {
      "text/html": [
       "<div>\n",
       "<style scoped>\n",
       "    .dataframe tbody tr th:only-of-type {\n",
       "        vertical-align: middle;\n",
       "    }\n",
       "\n",
       "    .dataframe tbody tr th {\n",
       "        vertical-align: top;\n",
       "    }\n",
       "\n",
       "    .dataframe thead th {\n",
       "        text-align: right;\n",
       "    }\n",
       "</style>\n",
       "<table border=\"1\" class=\"dataframe\">\n",
       "  <thead>\n",
       "    <tr style=\"text-align: right;\">\n",
       "      <th></th>\n",
       "      <th>mean_test_score</th>\n",
       "    </tr>\n",
       "  </thead>\n",
       "  <tbody>\n",
       "    <tr>\n",
       "      <th>0</th>\n",
       "      <td>0.783687</td>\n",
       "    </tr>\n",
       "    <tr>\n",
       "      <th>1</th>\n",
       "      <td>0.784267</td>\n",
       "    </tr>\n",
       "    <tr>\n",
       "      <th>2</th>\n",
       "      <td>0.780491</td>\n",
       "    </tr>\n",
       "    <tr>\n",
       "      <th>3</th>\n",
       "      <td>0.797800</td>\n",
       "    </tr>\n",
       "    <tr>\n",
       "      <th>4</th>\n",
       "      <td>0.797518</td>\n",
       "    </tr>\n",
       "    <tr>\n",
       "      <th>5</th>\n",
       "      <td>0.790618</td>\n",
       "    </tr>\n",
       "    <tr>\n",
       "      <th>6</th>\n",
       "      <td>0.809025</td>\n",
       "    </tr>\n",
       "    <tr>\n",
       "      <th>7</th>\n",
       "      <td>0.808386</td>\n",
       "    </tr>\n",
       "    <tr>\n",
       "      <th>8</th>\n",
       "      <td>0.798984</td>\n",
       "    </tr>\n",
       "    <tr>\n",
       "      <th>9</th>\n",
       "      <td>0.812093</td>\n",
       "    </tr>\n",
       "    <tr>\n",
       "      <th>10</th>\n",
       "      <td>0.810666</td>\n",
       "    </tr>\n",
       "    <tr>\n",
       "      <th>11</th>\n",
       "      <td>0.805475</td>\n",
       "    </tr>\n",
       "    <tr>\n",
       "      <th>12</th>\n",
       "      <td>0.831792</td>\n",
       "    </tr>\n",
       "    <tr>\n",
       "      <th>13</th>\n",
       "      <td>0.830373</td>\n",
       "    </tr>\n",
       "    <tr>\n",
       "      <th>14</th>\n",
       "      <td>0.820155</td>\n",
       "    </tr>\n",
       "    <tr>\n",
       "      <th>15</th>\n",
       "      <td>0.847285</td>\n",
       "    </tr>\n",
       "    <tr>\n",
       "      <th>16</th>\n",
       "      <td>0.845440</td>\n",
       "    </tr>\n",
       "    <tr>\n",
       "      <th>17</th>\n",
       "      <td>0.832333</td>\n",
       "    </tr>\n",
       "    <tr>\n",
       "      <th>18</th>\n",
       "      <td>0.844942</td>\n",
       "    </tr>\n",
       "    <tr>\n",
       "      <th>19</th>\n",
       "      <td>0.842458</td>\n",
       "    </tr>\n",
       "    <tr>\n",
       "      <th>20</th>\n",
       "      <td>0.832618</td>\n",
       "    </tr>\n",
       "    <tr>\n",
       "      <th>21</th>\n",
       "      <td>0.869185</td>\n",
       "    </tr>\n",
       "    <tr>\n",
       "      <th>22</th>\n",
       "      <td>0.866969</td>\n",
       "    </tr>\n",
       "    <tr>\n",
       "      <th>23</th>\n",
       "      <td>0.850170</td>\n",
       "    </tr>\n",
       "    <tr>\n",
       "      <th>24</th>\n",
       "      <td>0.887156</td>\n",
       "    </tr>\n",
       "    <tr>\n",
       "      <th>25</th>\n",
       "      <td>0.884586</td>\n",
       "    </tr>\n",
       "    <tr>\n",
       "      <th>26</th>\n",
       "      <td>0.863989</td>\n",
       "    </tr>\n",
       "    <tr>\n",
       "      <th>27</th>\n",
       "      <td>0.805959</td>\n",
       "    </tr>\n",
       "    <tr>\n",
       "      <th>28</th>\n",
       "      <td>0.808018</td>\n",
       "    </tr>\n",
       "    <tr>\n",
       "      <th>29</th>\n",
       "      <td>0.801551</td>\n",
       "    </tr>\n",
       "    <tr>\n",
       "      <th>30</th>\n",
       "      <td>0.825631</td>\n",
       "    </tr>\n",
       "    <tr>\n",
       "      <th>31</th>\n",
       "      <td>0.825618</td>\n",
       "    </tr>\n",
       "    <tr>\n",
       "      <th>32</th>\n",
       "      <td>0.816780</td>\n",
       "    </tr>\n",
       "    <tr>\n",
       "      <th>33</th>\n",
       "      <td>0.841639</td>\n",
       "    </tr>\n",
       "    <tr>\n",
       "      <th>34</th>\n",
       "      <td>0.841064</td>\n",
       "    </tr>\n",
       "    <tr>\n",
       "      <th>35</th>\n",
       "      <td>0.828658</td>\n",
       "    </tr>\n",
       "    <tr>\n",
       "      <th>36</th>\n",
       "      <td>0.844163</td>\n",
       "    </tr>\n",
       "    <tr>\n",
       "      <th>37</th>\n",
       "      <td>0.844265</td>\n",
       "    </tr>\n",
       "    <tr>\n",
       "      <th>38</th>\n",
       "      <td>0.833029</td>\n",
       "    </tr>\n",
       "    <tr>\n",
       "      <th>39</th>\n",
       "      <td>0.868627</td>\n",
       "    </tr>\n",
       "    <tr>\n",
       "      <th>40</th>\n",
       "      <td>0.869349</td>\n",
       "    </tr>\n",
       "    <tr>\n",
       "      <th>41</th>\n",
       "      <td>0.854174</td>\n",
       "    </tr>\n",
       "    <tr>\n",
       "      <th>42</th>\n",
       "      <td>0.888789</td>\n",
       "    </tr>\n",
       "    <tr>\n",
       "      <th>43</th>\n",
       "      <td>0.888242</td>\n",
       "    </tr>\n",
       "    <tr>\n",
       "      <th>44</th>\n",
       "      <td>0.871188</td>\n",
       "    </tr>\n",
       "    <tr>\n",
       "      <th>45</th>\n",
       "      <td>0.883372</td>\n",
       "    </tr>\n",
       "    <tr>\n",
       "      <th>46</th>\n",
       "      <td>0.879739</td>\n",
       "    </tr>\n",
       "    <tr>\n",
       "      <th>47</th>\n",
       "      <td>0.868775</td>\n",
       "    </tr>\n",
       "    <tr>\n",
       "      <th>48</th>\n",
       "      <td>0.908937</td>\n",
       "    </tr>\n",
       "    <tr>\n",
       "      <th>49</th>\n",
       "      <td>0.906531</td>\n",
       "    </tr>\n",
       "    <tr>\n",
       "      <th>50</th>\n",
       "      <td>0.890866</td>\n",
       "    </tr>\n",
       "    <tr>\n",
       "      <th>51</th>\n",
       "      <td>0.925384</td>\n",
       "    </tr>\n",
       "    <tr>\n",
       "      <th>52</th>\n",
       "      <td>0.923428</td>\n",
       "    </tr>\n",
       "    <tr>\n",
       "      <th>53</th>\n",
       "      <td>0.907988</td>\n",
       "    </tr>\n",
       "  </tbody>\n",
       "</table>\n",
       "</div>"
      ],
      "text/plain": [
       "    mean_test_score\n",
       "0          0.783687\n",
       "1          0.784267\n",
       "2          0.780491\n",
       "3          0.797800\n",
       "4          0.797518\n",
       "5          0.790618\n",
       "6          0.809025\n",
       "7          0.808386\n",
       "8          0.798984\n",
       "9          0.812093\n",
       "10         0.810666\n",
       "11         0.805475\n",
       "12         0.831792\n",
       "13         0.830373\n",
       "14         0.820155\n",
       "15         0.847285\n",
       "16         0.845440\n",
       "17         0.832333\n",
       "18         0.844942\n",
       "19         0.842458\n",
       "20         0.832618\n",
       "21         0.869185\n",
       "22         0.866969\n",
       "23         0.850170\n",
       "24         0.887156\n",
       "25         0.884586\n",
       "26         0.863989\n",
       "27         0.805959\n",
       "28         0.808018\n",
       "29         0.801551\n",
       "30         0.825631\n",
       "31         0.825618\n",
       "32         0.816780\n",
       "33         0.841639\n",
       "34         0.841064\n",
       "35         0.828658\n",
       "36         0.844163\n",
       "37         0.844265\n",
       "38         0.833029\n",
       "39         0.868627\n",
       "40         0.869349\n",
       "41         0.854174\n",
       "42         0.888789\n",
       "43         0.888242\n",
       "44         0.871188\n",
       "45         0.883372\n",
       "46         0.879739\n",
       "47         0.868775\n",
       "48         0.908937\n",
       "49         0.906531\n",
       "50         0.890866\n",
       "51         0.925384\n",
       "52         0.923428\n",
       "53         0.907988"
      ]
     },
     "execution_count": 132,
     "metadata": {},
     "output_type": "execute_result"
    }
   ],
   "source": [
    "pd.DataFrame(grid_search_cv.cv_results_).loc[:,['mean_test_score']]"
   ]
  },
  {
   "cell_type": "markdown",
   "metadata": {},
   "source": [
    "Оценим, какие признаки внесли наибольший вклад в модель. Используем параметр оценки важности признаков `best_estimator_` классификатора `XGBClassifier`."
   ]
  },
  {
   "cell_type": "code",
   "execution_count": 133,
   "metadata": {},
   "outputs": [
    {
     "data": {
      "text/plain": [
       "<matplotlib.axes._subplots.AxesSubplot at 0xe164f81d0>"
      ]
     },
     "execution_count": 133,
     "metadata": {},
     "output_type": "execute_result"
    },
    {
     "data": {
      "image/png": "[encoded data removed]",
      "text/plain": [
       "<matplotlib.figure.Figure at 0xe164f8860>"
      ]
     },
     "metadata": {},
     "output_type": "display_data"
    }
   ],
   "source": [
    "fig, ax = plt.subplots(figsize=(15, 20))\n",
    "xgb.plot_importance(grid_search_cv.best_estimator_, ax=ax)\n",
    "plt.show()"
   ]
  },
  {
   "cell_type": "markdown",
   "metadata": {},
   "source": [
    "Среди наиболее важных признаков большое количество вещественных."
   ]
  },
  {
   "cell_type": "markdown",
   "metadata": {},
   "source": [
    "## 4. Построение итоговой модели."
   ]
  },
  {
   "cell_type": "markdown",
   "metadata": {},
   "source": [
    "Для построения финальной модели на основе XGBClassifier будем использовать:\n",
    "- выборку на основе признаков, отобранных по значимости корреляции с целевой переменной.\n",
    "- применим undersampling и сделаем количество объектов класса `отток` в 2 раза больше числа объекто класса `не отток`.\n",
    "- заполним медианными значениями по столбцу для вещественных признаков.\n",
    "- используем dummy - кодирование для обработки категориальных признаков с небольшим количеством категорий.\n",
    "- используем подобранные по сетке параметры {'learning_rate': 0.1, 'max_depth': 5, 'n_estimators': 400, 'subsample': 0.7}."
   ]
  },
  {
   "cell_type": "code",
   "execution_count": 37,
   "metadata": {
    "scrolled": true
   },
   "outputs": [
    {
     "data": {
      "text/html": [
       "<div>\n",
       "<style scoped>\n",
       "    .dataframe tbody tr th:only-of-type {\n",
       "        vertical-align: middle;\n",
       "    }\n",
       "\n",
       "    .dataframe tbody tr th {\n",
       "        vertical-align: top;\n",
       "    }\n",
       "\n",
       "    .dataframe thead th {\n",
       "        text-align: right;\n",
       "    }\n",
       "</style>\n",
       "<table border=\"1\" class=\"dataframe\">\n",
       "  <thead>\n",
       "    <tr style=\"text-align: right;\">\n",
       "      <th></th>\n",
       "      <th>Var189</th>\n",
       "      <th>Var74</th>\n",
       "      <th>Var13</th>\n",
       "      <th>Var7</th>\n",
       "      <th>Var140</th>\n",
       "      <th>Var125</th>\n",
       "      <th>Var126</th>\n",
       "      <th>Var73</th>\n",
       "      <th>Var6</th>\n",
       "      <th>Var65</th>\n",
       "      <th>...</th>\n",
       "      <th>Var22</th>\n",
       "      <th>Var25</th>\n",
       "      <th>Var28</th>\n",
       "      <th>Var85</th>\n",
       "      <th>Var188</th>\n",
       "      <th>Var94</th>\n",
       "      <th>Var24</th>\n",
       "      <th>Var109</th>\n",
       "      <th>Var38</th>\n",
       "      <th>Var53</th>\n",
       "    </tr>\n",
       "  </thead>\n",
       "  <tbody>\n",
       "    <tr>\n",
       "      <th>0</th>\n",
       "      <td>NaN</td>\n",
       "      <td>0.0</td>\n",
       "      <td>0.0</td>\n",
       "      <td>0.0</td>\n",
       "      <td>0.0</td>\n",
       "      <td>4923.0</td>\n",
       "      <td>NaN</td>\n",
       "      <td>48.0</td>\n",
       "      <td>168.0</td>\n",
       "      <td>9.0</td>\n",
       "      <td>...</td>\n",
       "      <td>120.0</td>\n",
       "      <td>96.0</td>\n",
       "      <td>133.12</td>\n",
       "      <td>0.0</td>\n",
       "      <td>NaN</td>\n",
       "      <td>NaN</td>\n",
       "      <td>0.0</td>\n",
       "      <td>0.0</td>\n",
       "      <td>0.0</td>\n",
       "      <td>NaN</td>\n",
       "    </tr>\n",
       "    <tr>\n",
       "      <th>1</th>\n",
       "      <td>318.0</td>\n",
       "      <td>182.0</td>\n",
       "      <td>820.0</td>\n",
       "      <td>7.0</td>\n",
       "      <td>5500.0</td>\n",
       "      <td>4869.0</td>\n",
       "      <td>-24.0</td>\n",
       "      <td>86.0</td>\n",
       "      <td>1155.0</td>\n",
       "      <td>18.0</td>\n",
       "      <td>...</td>\n",
       "      <td>380.0</td>\n",
       "      <td>48.0</td>\n",
       "      <td>253.52</td>\n",
       "      <td>0.0</td>\n",
       "      <td>NaN</td>\n",
       "      <td>253872.0</td>\n",
       "      <td>0.0</td>\n",
       "      <td>8.0</td>\n",
       "      <td>2740026.0</td>\n",
       "      <td>NaN</td>\n",
       "    </tr>\n",
       "    <tr>\n",
       "      <th>2</th>\n",
       "      <td>156.0</td>\n",
       "      <td>14.0</td>\n",
       "      <td>4.0</td>\n",
       "      <td>7.0</td>\n",
       "      <td>45.0</td>\n",
       "      <td>171.0</td>\n",
       "      <td>-28.0</td>\n",
       "      <td>32.0</td>\n",
       "      <td>686.0</td>\n",
       "      <td>9.0</td>\n",
       "      <td>...</td>\n",
       "      <td>170.0</td>\n",
       "      <td>64.0</td>\n",
       "      <td>253.52</td>\n",
       "      <td>6.0</td>\n",
       "      <td>NaN</td>\n",
       "      <td>1374.0</td>\n",
       "      <td>4.0</td>\n",
       "      <td>32.0</td>\n",
       "      <td>2858460.0</td>\n",
       "      <td>NaN</td>\n",
       "    </tr>\n",
       "    <tr>\n",
       "      <th>3</th>\n",
       "      <td>NaN</td>\n",
       "      <td>238.0</td>\n",
       "      <td>300.0</td>\n",
       "      <td>7.0</td>\n",
       "      <td>265.0</td>\n",
       "      <td>8001.0</td>\n",
       "      <td>NaN</td>\n",
       "      <td>42.0</td>\n",
       "      <td>798.0</td>\n",
       "      <td>9.0</td>\n",
       "      <td>...</td>\n",
       "      <td>170.0</td>\n",
       "      <td>32.0</td>\n",
       "      <td>186.64</td>\n",
       "      <td>4.0</td>\n",
       "      <td>NaN</td>\n",
       "      <td>NaN</td>\n",
       "      <td>2.0</td>\n",
       "      <td>32.0</td>\n",
       "      <td>6336420.0</td>\n",
       "      <td>NaN</td>\n",
       "    </tr>\n",
       "    <tr>\n",
       "      <th>4</th>\n",
       "      <td>360.0</td>\n",
       "      <td>49.0</td>\n",
       "      <td>1080.0</td>\n",
       "      <td>7.0</td>\n",
       "      <td>9455.0</td>\n",
       "      <td>551979.0</td>\n",
       "      <td>32.0</td>\n",
       "      <td>56.0</td>\n",
       "      <td>3108.0</td>\n",
       "      <td>9.0</td>\n",
       "      <td>...</td>\n",
       "      <td>510.0</td>\n",
       "      <td>280.0</td>\n",
       "      <td>233.44</td>\n",
       "      <td>34.0</td>\n",
       "      <td>NaN</td>\n",
       "      <td>447552.0</td>\n",
       "      <td>12.0</td>\n",
       "      <td>144.0</td>\n",
       "      <td>0.0</td>\n",
       "      <td>NaN</td>\n",
       "    </tr>\n",
       "  </tbody>\n",
       "</table>\n",
       "<p>5 rows × 28 columns</p>\n",
       "</div>"
      ],
      "text/plain": [
       "   Var189  Var74   Var13  Var7  Var140    Var125  Var126  Var73    Var6  \\\n",
       "0     NaN    0.0     0.0   0.0     0.0    4923.0     NaN   48.0   168.0   \n",
       "1   318.0  182.0   820.0   7.0  5500.0    4869.0   -24.0   86.0  1155.0   \n",
       "2   156.0   14.0     4.0   7.0    45.0     171.0   -28.0   32.0   686.0   \n",
       "3     NaN  238.0   300.0   7.0   265.0    8001.0     NaN   42.0   798.0   \n",
       "4   360.0   49.0  1080.0   7.0  9455.0  551979.0    32.0   56.0  3108.0   \n",
       "\n",
       "   Var65  ...  Var22  Var25   Var28  Var85  Var188     Var94  Var24  Var109  \\\n",
       "0    9.0  ...  120.0   96.0  133.12    0.0     NaN       NaN    0.0     0.0   \n",
       "1   18.0  ...  380.0   48.0  253.52    0.0     NaN  253872.0    0.0     8.0   \n",
       "2    9.0  ...  170.0   64.0  253.52    6.0     NaN    1374.0    4.0    32.0   \n",
       "3    9.0  ...  170.0   32.0  186.64    4.0     NaN       NaN    2.0    32.0   \n",
       "4    9.0  ...  510.0  280.0  233.44   34.0     NaN  447552.0   12.0   144.0   \n",
       "\n",
       "       Var38  Var53  \n",
       "0        0.0    NaN  \n",
       "1  2740026.0    NaN  \n",
       "2  2858460.0    NaN  \n",
       "3  6336420.0    NaN  \n",
       "4        0.0    NaN  \n",
       "\n",
       "[5 rows x 28 columns]"
      ]
     },
     "execution_count": 37,
     "metadata": {},
     "output_type": "execute_result"
    },
    {
     "data": {
      "text/html": [
       "<div>\n",
       "<style scoped>\n",
       "    .dataframe tbody tr th:only-of-type {\n",
       "        vertical-align: middle;\n",
       "    }\n",
       "\n",
       "    .dataframe tbody tr th {\n",
       "        vertical-align: top;\n",
       "    }\n",
       "\n",
       "    .dataframe thead th {\n",
       "        text-align: right;\n",
       "    }\n",
       "</style>\n",
       "<table border=\"1\" class=\"dataframe\">\n",
       "  <thead>\n",
       "    <tr style=\"text-align: right;\">\n",
       "      <th></th>\n",
       "      <th>Var213</th>\n",
       "      <th>Var194</th>\n",
       "      <th>Var191</th>\n",
       "      <th>Var201</th>\n",
       "      <th>Var216</th>\n",
       "      <th>Var204</th>\n",
       "      <th>Var211</th>\n",
       "      <th>Var226</th>\n",
       "      <th>Var193</th>\n",
       "      <th>Var210</th>\n",
       "      <th>...</th>\n",
       "      <th>Var225</th>\n",
       "      <th>Var212</th>\n",
       "      <th>Var227</th>\n",
       "      <th>Var228</th>\n",
       "      <th>Var229</th>\n",
       "      <th>Var205</th>\n",
       "      <th>Var206</th>\n",
       "      <th>Var192</th>\n",
       "      <th>Var199</th>\n",
       "      <th>Var218</th>\n",
       "    </tr>\n",
       "  </thead>\n",
       "  <tbody>\n",
       "    <tr>\n",
       "      <th>0</th>\n",
       "      <td>NaN</td>\n",
       "      <td>NaN</td>\n",
       "      <td>NaN</td>\n",
       "      <td>NaN</td>\n",
       "      <td>TDcECyH</td>\n",
       "      <td>t_4G</td>\n",
       "      <td>L84s</td>\n",
       "      <td>Qu4f</td>\n",
       "      <td>RO12</td>\n",
       "      <td>uKAI</td>\n",
       "      <td>...</td>\n",
       "      <td>ELof</td>\n",
       "      <td>NhsEn4L</td>\n",
       "      <td>RAYp</td>\n",
       "      <td>F2FyR07IdsN7I</td>\n",
       "      <td>mj86</td>\n",
       "      <td>VpdQ</td>\n",
       "      <td>IYzP</td>\n",
       "      <td>eOQt0GoOh3</td>\n",
       "      <td>h3WsUQk</td>\n",
       "      <td>cJvF</td>\n",
       "    </tr>\n",
       "    <tr>\n",
       "      <th>1</th>\n",
       "      <td>NaN</td>\n",
       "      <td>NaN</td>\n",
       "      <td>NaN</td>\n",
       "      <td>NaN</td>\n",
       "      <td>XTbPUYD</td>\n",
       "      <td>rGJy</td>\n",
       "      <td>Mtgm</td>\n",
       "      <td>Qu4f</td>\n",
       "      <td>RO12</td>\n",
       "      <td>uKAI</td>\n",
       "      <td>...</td>\n",
       "      <td>ELof</td>\n",
       "      <td>XfqtO3UdzaXh_</td>\n",
       "      <td>RAYp</td>\n",
       "      <td>F2FyR07IdsN7I</td>\n",
       "      <td>am7c</td>\n",
       "      <td>09_Q</td>\n",
       "      <td>lVqb</td>\n",
       "      <td>yaKt0Go8Lb</td>\n",
       "      <td>daiGnRstPa</td>\n",
       "      <td>UYBR</td>\n",
       "    </tr>\n",
       "    <tr>\n",
       "      <th>2</th>\n",
       "      <td>NaN</td>\n",
       "      <td>NaN</td>\n",
       "      <td>NaN</td>\n",
       "      <td>NaN</td>\n",
       "      <td>NGZXfGp</td>\n",
       "      <td>k13i</td>\n",
       "      <td>L84s</td>\n",
       "      <td>fKCe</td>\n",
       "      <td>RO12</td>\n",
       "      <td>uKAI</td>\n",
       "      <td>...</td>\n",
       "      <td>NaN</td>\n",
       "      <td>NhsEn4L</td>\n",
       "      <td>RAYp</td>\n",
       "      <td>F2FyR07IdsN7I</td>\n",
       "      <td>NaN</td>\n",
       "      <td>sJzTlal</td>\n",
       "      <td>zm5i</td>\n",
       "      <td>6m0t0G8rTN</td>\n",
       "      <td>k2w937Sptb8I4AR_</td>\n",
       "      <td>cJvF</td>\n",
       "    </tr>\n",
       "    <tr>\n",
       "      <th>3</th>\n",
       "      <td>NaN</td>\n",
       "      <td>NaN</td>\n",
       "      <td>NaN</td>\n",
       "      <td>NaN</td>\n",
       "      <td>mAja5EA</td>\n",
       "      <td>Y9Bl</td>\n",
       "      <td>L84s</td>\n",
       "      <td>uWr3</td>\n",
       "      <td>RO12</td>\n",
       "      <td>uKAI</td>\n",
       "      <td>...</td>\n",
       "      <td>NaN</td>\n",
       "      <td>NhsEn4L</td>\n",
       "      <td>RAYp</td>\n",
       "      <td>F2FyR07IdsN7I</td>\n",
       "      <td>NaN</td>\n",
       "      <td>NaN</td>\n",
       "      <td>zm5i</td>\n",
       "      <td>EsYq9aX0Db</td>\n",
       "      <td>UFIZdCX</td>\n",
       "      <td>UYBR</td>\n",
       "    </tr>\n",
       "    <tr>\n",
       "      <th>4</th>\n",
       "      <td>NaN</td>\n",
       "      <td>NaN</td>\n",
       "      <td>NaN</td>\n",
       "      <td>NaN</td>\n",
       "      <td>kq0n8Bj</td>\n",
       "      <td>e7QV</td>\n",
       "      <td>L84s</td>\n",
       "      <td>fKCe</td>\n",
       "      <td>RO12</td>\n",
       "      <td>uKAI</td>\n",
       "      <td>...</td>\n",
       "      <td>ELof</td>\n",
       "      <td>NhsEn4L</td>\n",
       "      <td>RAYp</td>\n",
       "      <td>F2FyR07IdsN7I</td>\n",
       "      <td>NaN</td>\n",
       "      <td>VpdQ</td>\n",
       "      <td>sYC_</td>\n",
       "      <td>6m0t0G8rTN</td>\n",
       "      <td>k10MzgT</td>\n",
       "      <td>cJvF</td>\n",
       "    </tr>\n",
       "  </tbody>\n",
       "</table>\n",
       "<p>5 rows × 22 columns</p>\n",
       "</div>"
      ],
      "text/plain": [
       "  Var213 Var194 Var191 Var201   Var216 Var204 Var211 Var226 Var193 Var210  \\\n",
       "0    NaN    NaN    NaN    NaN  TDcECyH   t_4G   L84s   Qu4f   RO12   uKAI   \n",
       "1    NaN    NaN    NaN    NaN  XTbPUYD   rGJy   Mtgm   Qu4f   RO12   uKAI   \n",
       "2    NaN    NaN    NaN    NaN  NGZXfGp   k13i   L84s   fKCe   RO12   uKAI   \n",
       "3    NaN    NaN    NaN    NaN  mAja5EA   Y9Bl   L84s   uWr3   RO12   uKAI   \n",
       "4    NaN    NaN    NaN    NaN  kq0n8Bj   e7QV   L84s   fKCe   RO12   uKAI   \n",
       "\n",
       "   ... Var225         Var212 Var227         Var228 Var229   Var205 Var206  \\\n",
       "0  ...   ELof        NhsEn4L   RAYp  F2FyR07IdsN7I   mj86     VpdQ   IYzP   \n",
       "1  ...   ELof  XfqtO3UdzaXh_   RAYp  F2FyR07IdsN7I   am7c     09_Q   lVqb   \n",
       "2  ...    NaN        NhsEn4L   RAYp  F2FyR07IdsN7I    NaN  sJzTlal   zm5i   \n",
       "3  ...    NaN        NhsEn4L   RAYp  F2FyR07IdsN7I    NaN      NaN   zm5i   \n",
       "4  ...   ELof        NhsEn4L   RAYp  F2FyR07IdsN7I    NaN     VpdQ   sYC_   \n",
       "\n",
       "       Var192            Var199 Var218  \n",
       "0  eOQt0GoOh3           h3WsUQk   cJvF  \n",
       "1  yaKt0Go8Lb        daiGnRstPa   UYBR  \n",
       "2  6m0t0G8rTN  k2w937Sptb8I4AR_   cJvF  \n",
       "3  EsYq9aX0Db           UFIZdCX   UYBR  \n",
       "4  6m0t0G8rTN           k10MzgT   cJvF  \n",
       "\n",
       "[5 rows x 22 columns]"
      ]
     },
     "execution_count": 37,
     "metadata": {},
     "output_type": "execute_result"
    }
   ],
   "source": [
    "numeric_data_selected_train.head()\n",
    "categorial_data_selected_train.head()"
   ]
  },
  {
   "cell_type": "markdown",
   "metadata": {},
   "source": [
    "Вещественные признаки."
   ]
  },
  {
   "cell_type": "code",
   "execution_count": 40,
   "metadata": {
    "collapsed": true
   },
   "outputs": [],
   "source": [
    "# заменяем пропущенные значения  вещественных признаков нулями\n",
    "numeric_data_selected_train = numeric_data_selected_train.fillna(0)\n",
    "# заменяем пропущенные значения  вещественных признаков медианами по столбцу\n",
    "numeric_data_selected_train = numeric_data_selected_train.fillna(numeric_data_selected_train.median())"
   ]
  },
  {
   "cell_type": "markdown",
   "metadata": {},
   "source": [
    "Категориальные признаки."
   ]
  },
  {
   "cell_type": "code",
   "execution_count": 42,
   "metadata": {
    "collapsed": true
   },
   "outputs": [],
   "source": [
    "# обработаем категории\n",
    "categorial_data_select_for_model = categorial_data_selected_train.dropna(axis=1,how='all').copy()\n",
    "# заменяем пропущенные значения  категориальных признаков еще обной категорие (так мы не потеряем информацию о признаках)\n",
    "categorial_data_select_for_model = categorial_data_select_for_model.fillna('NA').astype(str)\n",
    "# обработаем категориальные признаки с использованием метода LabelEncoder\n",
    "categorial_data_select_for_model = labelEncoder(categorial_data_select_for_model) "
   ]
  },
  {
   "cell_type": "markdown",
   "metadata": {},
   "source": [
    "Объединим все в один датасет."
   ]
  },
  {
   "cell_type": "code",
   "execution_count": 43,
   "metadata": {},
   "outputs": [
    {
     "data": {
      "text/plain": [
       "(32000, 50)"
      ]
     },
     "execution_count": 43,
     "metadata": {},
     "output_type": "execute_result"
    }
   ],
   "source": [
    "result_dataset = pd.concat([numeric_data_selected_train, categorial_data_select_for_model],axis=1)\n",
    "result_dataset.shape"
   ]
  },
  {
   "cell_type": "markdown",
   "metadata": {},
   "source": [
    "Сделаем соотношение класса `отток` и `не отток` 1 к 2."
   ]
  },
  {
   "cell_type": "code",
   "execution_count": 44,
   "metadata": {},
   "outputs": [
    {
     "data": {
      "text/plain": [
       "2381"
      ]
     },
     "execution_count": 44,
     "metadata": {},
     "output_type": "execute_result"
    },
    {
     "data": {
      "text/plain": [
       "29619"
      ]
     },
     "execution_count": 44,
     "metadata": {},
     "output_type": "execute_result"
    }
   ],
   "source": [
    "idx_negative = result_dataset[labels_data_train == 1].index.tolist()\n",
    "idx_positive = result_dataset[labels_data_train == -1].index.tolist()\n",
    "len(idx_negative)\n",
    "len(idx_positive)"
   ]
  },
  {
   "cell_type": "code",
   "execution_count": 45,
   "metadata": {},
   "outputs": [
    {
     "data": {
      "text/plain": [
       "14286"
      ]
     },
     "execution_count": 45,
     "metadata": {},
     "output_type": "execute_result"
    },
    {
     "data": {
      "text/plain": [
       "7143"
      ]
     },
     "execution_count": 45,
     "metadata": {},
     "output_type": "execute_result"
    }
   ],
   "source": [
    "negative_class = list(np.random.choice(idx_negative, 6*len(idx_negative)))\n",
    "len(negative_class)\n",
    "positive_class = list(np.random.choice(idx_positive, 3*len(idx_negative)))\n",
    "len(positive_class)"
   ]
  },
  {
   "cell_type": "markdown",
   "metadata": {},
   "source": [
    "Итоговый датасет для подбора параметров модели."
   ]
  },
  {
   "cell_type": "code",
   "execution_count": 46,
   "metadata": {
    "collapsed": true
   },
   "outputs": [],
   "source": [
    "dataset_for_our_model = result_dataset.ix[negative_class+positive_class]\n",
    "labels_data = labels_data_train[negative_class+positive_class]"
   ]
  },
  {
   "cell_type": "markdown",
   "metadata": {},
   "source": [
    "Зададим стратегию кросс-валидации с разбиением на 5 фолдов."
   ]
  },
  {
   "cell_type": "code",
   "execution_count": 47,
   "metadata": {
    "collapsed": true
   },
   "outputs": [],
   "source": [
    "cross_val_strategy = StratifiedKFold(n_splits=5, random_state=100)"
   ]
  },
  {
   "cell_type": "code",
   "execution_count": 49,
   "metadata": {},
   "outputs": [
    {
     "name": "stdout",
     "output_type": "stream",
     "text": [
      "ROC-AUC: 0.959494654503304\n",
      "PR-AUC: 0.9710640721653121\n",
      "Accuracy: 0.8976621286313312\n",
      "Precision: 0.8734575274869352\n",
      "Recall: 0.9899202062972288\n",
      "F1-score: 0.9280445777753282\n",
      "Wall time: 10min 16s\n"
     ]
    }
   ],
   "source": [
    "%%time\n",
    "xgboost_result_model = xgb.XGBClassifier( learning_rate=0.1, max_depth=5, n_estimators=400, subsample=0.7, eval_metric='auc', random_state=44, n_jobs=-1)\n",
    "roc_auc, pr_auc, precision, recall, f1_score, models = calculate_classification_metrics(xgboost_result_model, cross_val_strategy, dataset_for_our_model, labels_data)"
   ]
  },
  {
   "cell_type": "markdown",
   "metadata": {},
   "source": [
    "Проверим качество модели на отложеной (holdout) выборке."
   ]
  },
  {
   "cell_type": "code",
   "execution_count": 63,
   "metadata": {},
   "outputs": [
    {
     "data": {
      "text/plain": [
       "(8000, 28)"
      ]
     },
     "execution_count": 63,
     "metadata": {},
     "output_type": "execute_result"
    },
    {
     "data": {
      "text/plain": [
       "(8000, 22)"
      ]
     },
     "execution_count": 63,
     "metadata": {},
     "output_type": "execute_result"
    },
    {
     "data": {
      "text/plain": [
       "(8000,)"
      ]
     },
     "execution_count": 63,
     "metadata": {},
     "output_type": "execute_result"
    }
   ],
   "source": [
    "numeric_data_selected_test.shape\n",
    "categorial_data_selected_test.shape\n",
    "labels_data_test.shape"
   ]
  },
  {
   "cell_type": "code",
   "execution_count": 64,
   "metadata": {
    "collapsed": true
   },
   "outputs": [],
   "source": [
    "def feature_enginering_holdout(numeric_dataset, categorial_dataset, label_data):\n",
    "    # Вещественные признаки\n",
    "    # заменяем пропущенные значения  вещественных признаков нулями\n",
    "    numeric_dataset = numeric_dataset.fillna(0)\n",
    "    # заменяем пропущенные значения  вещественных признаков медианами по столбцу\n",
    "    numeric_dataset = numeric_dataset.fillna(numeric_dataset.median())\n",
    "    # категориальные признаки\n",
    "    # обработаем категории\n",
    "    categorial_data_select_for_model = categorial_dataset.dropna(axis=1,how='all').copy()\n",
    "    # заменяем пропущенные значения  категориальных признаков еще обной категорие (так мы не потеряем информацию о признаках)\n",
    "    categorial_data_select_for_model = categorial_data_select_for_model.fillna('NA').astype(str)\n",
    "    # обработаем категориальные признаки с использованием метода LabelEncoder\n",
    "    categorial_data_select_for_model = labelEncoder(categorial_data_select_for_model) \n",
    "    result_dataset = pd.concat([numeric_dataset, categorial_data_select_for_model],axis=1)\n",
    "    idx_negative = result_dataset[label_data == 1].index.tolist()\n",
    "    idx_positive = result_dataset[label_data == -1].index.tolist()\n",
    "    negative_class = list(np.random.choice(idx_negative, 6*len(idx_negative)))\n",
    "    positive_class = list(np.random.choice(idx_positive, 3*len(idx_negative)))\n",
    "    dataset_for_our_model = result_dataset.ix[negative_class+positive_class]\n",
    "    label_data_for_our_model = label_data[negative_class+positive_class]\n",
    "    return dataset_for_our_model, label_data_for_our_model"
   ]
  },
  {
   "cell_type": "code",
   "execution_count": 65,
   "metadata": {},
   "outputs": [
    {
     "data": {
      "text/plain": [
       "(5355, 50)"
      ]
     },
     "execution_count": 65,
     "metadata": {},
     "output_type": "execute_result"
    },
    {
     "data": {
      "text/plain": [
       "(5355,)"
      ]
     },
     "execution_count": 65,
     "metadata": {},
     "output_type": "execute_result"
    }
   ],
   "source": [
    "data_for_test_model, label_for_test_model = feature_enginering_holdout(numeric_data_selected_test, categorial_data_selected_test, labels_data_test)\n",
    "data_for_test_model.shape\n",
    "label_for_test_model.shape"
   ]
  },
  {
   "cell_type": "code",
   "execution_count": 66,
   "metadata": {
    "collapsed": true
   },
   "outputs": [],
   "source": [
    "finish_model = xgb.XGBClassifier(learning_rate=0.1, max_depth=5, n_estimators=400, subsample=0.7, eval_metric='auc', random_state=44, n_jobs=-1).fit(dataset_for_our_model, labels_data)\n",
    "pred_answers = finish_model.predict(data_for_test_model)"
   ]
  },
  {
   "cell_type": "code",
   "execution_count": 84,
   "metadata": {},
   "outputs": [
    {
     "name": "stdout",
     "output_type": "stream",
     "text": [
      "              precision    recall  f1-score   support\n",
      "\n",
      "          -1       0.45      0.71      0.55      1785\n",
      "           1       0.79      0.56      0.66      3570\n",
      "\n",
      "    accuracy                           0.61      5355\n",
      "   macro avg       0.62      0.63      0.60      5355\n",
      "weighted avg       0.68      0.61      0.62      5355\n",
      "\n"
     ]
    }
   ],
   "source": [
    "print(classification_report(label_for_test_model, pred_answers))"
   ]
  },
  {
   "cell_type": "code",
   "execution_count": 91,
   "metadata": {},
   "outputs": [
    {
     "name": "stdout",
     "output_type": "stream",
     "text": [
      "0.6333333333333333 0.7925426418088061 0.5596638655462185\n"
     ]
    }
   ],
   "source": [
    "roc_auc_result = sm.roc_auc_score(label_for_test_model, pred_answers)\n",
    "precision_result = sm.precision_score(label_for_test_model, pred_answers)\n",
    "recall_result = sm.recall_score(label_for_test_model, pred_answers)\n",
    "print(roc_auc_result, precision_result, recall_result)"
   ]
  },
  {
   "cell_type": "markdown",
   "metadata": {},
   "source": [
    "В результате построения модели и проверки ее качества получили, что наша модель угадывает пользователей склонных к оттоку в 79% случаев, но при этом срабатывает всего на 56% пользователей склонных к оттоку."
   ]
  },
  {
   "cell_type": "markdown",
   "metadata": {
    "collapsed": true
   },
   "source": [
    "В качестве улучшения модели можно добавить новых признаков на основе имеющихся (например создать попарные взаимодействия важных категориальных признаков).\n",
    "Также ситуацию с качеством предсказания может улучшить построение ансамбля моделей."
   ]
  },
  {
   "cell_type": "markdown",
   "metadata": {},
   "source": [
    "## 5. Ожидаемый экономический эффект."
   ]
  },
  {
   "cell_type": "markdown",
   "metadata": {},
   "source": [
    "Поскольку исходными данными по абонентам компании Orange пользоваться затруднительно (маленький объем данных, неизвестно  назначение признаков, а также нет актуальных достоверных открытых данных по количеству абонентов компании Orange, стоимости их привлечения и среднего дохода от каждого пользователя)."
   ]
  },
  {
   "cell_type": "markdown",
   "metadata": {},
   "source": [
    "Воспользуемся данными из открытых источников. Данные по абонентам возьмем из подведения итогов 2019 года компанией Tele2 (https://eaomedia.ru/news/917792/). Применим данные по среднему доходу от каждого абонента на имеющиеся данные и получим следующие значения:\n",
    "- ARPU (Average Revenue Per User) — средний доход, который мы получаем от каждого активного пользователя (305 рублей в месяц).\n",
    "\n",
    "- Users - число абонентов 40 тысяч.\n",
    "\n",
    "- Churn - средний отток 7%.\n",
    "\n",
    "- N - число пользователей, склонных к оттоку (40000 * 0.07 = 2800 пользователей).\n",
    "- n_topX - доля удерживаемых пользователей от числа всех пользователей склонных к оттоку (от 0 до 1).\n",
    "\n",
    "- CRC (Customer Retention Cost) - объем вложений в удержание одного пользователя. Сделаем данный параметр 30% от ARPU (92 рубля).\n",
    "\n",
    "- p - вероятность принятия предложения (в каждом отдельном случае будем подбирать указанный параметр и оценивать экономический эффект, по умолчанию - 0.5).\n",
    "- precision - точность модели."
   ]
  },
  {
   "cell_type": "markdown",
   "metadata": {},
   "source": [
    "#### Экономический эффект от проведения компании."
   ]
  },
  {
   "cell_type": "markdown",
   "metadata": {},
   "source": [
    "Расходы на проведение кампании будут рассчитываться по следующей формуле:\n",
    "\n",
    "$$Expenses= CRC \\cdot n_{top_X} \\cdot N$$\n",
    "\n",
    "Доходы по следующей формуле:\n",
    "\n",
    "$$Revenue= n_{top_X} \\cdot N \\cdot ARPU\\cdot p$$\n",
    "\n",
    "Экономический эффект получим по следующей формуле:\n",
    "\n",
    "$$Efficiency = Revenue - Expenses = N \\cdot n_{top_X} \\cdot ARPU\\cdot p - CRC \\cdot n_{top_X} \\cdot N$$ "
   ]
  },
  {
   "cell_type": "markdown",
   "metadata": {},
   "source": [
    "Формула оценки эффективности удержания будет выглядеть следующим образом:\n",
    "\n",
    "$$Efficiency = N \\cdot precision \\cdot n_{top_X} \\cdot  ARPU\\cdot p - CRC \\cdot n_{top_X} \\cdot N$$"
   ]
  },
  {
   "cell_type": "markdown",
   "metadata": {},
   "source": [
    "Посчитаем экономический эффект от проведения компании.\n",
    "\n",
    "Возьмем долю удерживаемых пользователей n_topX равной 25%. Вероятность p, что пользователь останестя равной 0.5."
   ]
  },
  {
   "cell_type": "code",
   "execution_count": 103,
   "metadata": {
    "collapsed": true
   },
   "outputs": [],
   "source": [
    "Users = 40000\n",
    "Churn = 0.07\n",
    "precision = 0.8\n",
    "N = 2800\n",
    "p = 0.5\n",
    "n_top_x = 0.25\n",
    "CRC = 92\n",
    "ARPU = 305"
   ]
  },
  {
   "cell_type": "code",
   "execution_count": 104,
   "metadata": {
    "collapsed": true
   },
   "outputs": [],
   "source": [
    "def efficiency_score (N, p, n_top_x, ARPU, CRC):\n",
    "    return (N * ARPU * p * n_top_x) - (N * CRC * n_top_x)"
   ]
  },
  {
   "cell_type": "code",
   "execution_count": 105,
   "metadata": {},
   "outputs": [
    {
     "name": "stdout",
     "output_type": "stream",
     "text": [
      "Экономический эффект от проведения компании по удержанию: 42350.0 руб.\n"
     ]
    }
   ],
   "source": [
    "efficiency = efficiency_score(N, p, n_top_x, ARPU, CRC)\n",
    "print(\"Экономический эффект от проведения компании по удержанию: {} руб.\".format(efficiency))"
   ]
  },
  {
   "cell_type": "markdown",
   "metadata": {},
   "source": [
    "#### Расчет топа пользователей склонных к оттоку согласно модели, используемых в кампании по удержанию."
   ]
  },
  {
   "cell_type": "markdown",
   "metadata": {},
   "source": [
    "Согласно формуле, эффект прямо пропорционален количеству пользователей, поэтому чем\n",
    "больше пользователей мы вовлечем в компанию, тем больше прибыли получим.\n",
    "$$Efficiency = Revenue - Expenses = N \\cdot n_{top_X} \\cdot  ARPU\\cdot p - CRC \\cdot n_{top_X} \\cdot N$$\n",
    "N * n_top_X – количество удерживаемых пользователей,\n",
    "p – вероятность удержания пользователя,\n",
    "ARPU – средний доход с пользователя.\n",
    "\n",
    "В более сложной модели надо учитывать, что полнота и точность будут варьироваться\n",
    "для top 1% и для top 25% и необходимо учесть, что в top% пользователей попадут не только желающие покинуть оператора, но и обычные пользователи, поэтому их надо будет исключить из расчетов (взять только долю precision)."
   ]
  },
  {
   "cell_type": "markdown",
   "metadata": {},
   "source": [
    "#### Усложение экономической модели. "
   ]
  },
  {
   "cell_type": "markdown",
   "metadata": {},
   "source": [
    "Добавим параметр точность модели(precision) и предположим, что точность зависит от количества пользователей,вовлеченных в кампанию.\n",
    "\n",
    "Пусть она убывает со 100% (для одного пользователя) до 50%(для всех пользователей)."
   ]
  },
  {
   "cell_type": "markdown",
   "metadata": {},
   "source": [
    "В результате итоговая формула оценки эффективности удержания будет выглядеть следующим образом:\n",
    "\n",
    "$$Efficiency = N \\cdot precision \\cdot n_{top_X} \\cdot  ARPU\\cdot p - CRC \\cdot n_{top_X} \\cdot N$$"
   ]
  },
  {
   "cell_type": "code",
   "execution_count": 106,
   "metadata": {
    "collapsed": true
   },
   "outputs": [],
   "source": [
    "def efficiency_score_with_precision (N, p, n_top_x, ARPU, CRC, precision):\n",
    "    return (N * ARPU * precision * p * n_top_x) - (N * CRC * n_top_x)"
   ]
  },
  {
   "cell_type": "markdown",
   "metadata": {},
   "source": [
    "Оценим экономический эффект в зависимости от числа удерживаемых пользователей и от точности модели."
   ]
  },
  {
   "cell_type": "code",
   "execution_count": 107,
   "metadata": {
    "scrolled": true
   },
   "outputs": [
    {
     "data": {
      "text/plain": [
       "<function matplotlib.pyplot.show>"
      ]
     },
     "execution_count": 107,
     "metadata": {},
     "output_type": "execute_result"
    },
    {
     "data": {
      "text/plain": [
       "<function matplotlib.pyplot.show>"
      ]
     },
     "execution_count": 107,
     "metadata": {},
     "output_type": "execute_result"
    },
    {
     "data": {
      "text/plain": [
       "<function matplotlib.pyplot.show>"
      ]
     },
     "execution_count": 107,
     "metadata": {},
     "output_type": "execute_result"
    },
    {
     "data": {
      "text/plain": [
       "<function matplotlib.pyplot.show>"
      ]
     },
     "execution_count": 107,
     "metadata": {},
     "output_type": "execute_result"
    },
    {
     "data": {
      "image/png": "[encoded data removed]",
      "text/plain": [
       "<matplotlib.figure.Figure at 0x5a0d1cd400>"
      ]
     },
     "metadata": {},
     "output_type": "display_data"
    }
   ],
   "source": [
    "n_top_x = np.linspace(0.01,0.25,25)\n",
    "precision_list = [0.7, 0.75, 0.8, 0.85]\n",
    "for precision in precision_list:\n",
    "    _ = plt.plot(n_top_x, efficiency_score_with_precision(N, p, n_top_x, ARPU, CRC, precision))\n",
    "    _ = plt.legend(['precision 0.7', 'precision 0.75', 'precision 0.8', 'precision 0.85'])\n",
    "    _ = plt.xlabel('n_top_users (percent)')\n",
    "    _ = plt.ylabel('economical_efficiency (rub)')\n",
    "    _ = plt.grid()\n",
    "    plt.show"
   ]
  },
  {
   "cell_type": "markdown",
   "metadata": {},
   "source": [
    "Из графика видно, что модель с точностью более 70% дают положительного экономического эффект для группы (от 1 до 25%) пользователей склонных к оттоку и используемых в нашей экономической компании."
   ]
  },
  {
   "cell_type": "markdown",
   "metadata": {},
   "source": [
    "#### Когда применение модели экономически неоправдано?"
   ]
  },
  {
   "cell_type": "markdown",
   "metadata": {},
   "source": [
    "Возьмем оптимальные параметры согласно построенной нами модели (precision = 0.8, n_top_X =0.25) и рассчитаем когда ее применение становится экономически неоправданным."
   ]
  },
  {
   "cell_type": "code",
   "execution_count": 110,
   "metadata": {},
   "outputs": [
    {
     "data": {
      "text/plain": [
       "<function matplotlib.pyplot.show>"
      ]
     },
     "execution_count": 110,
     "metadata": {},
     "output_type": "execute_result"
    },
    {
     "data": {
      "image/png": "[encoded data removed]",
      "text/plain": [
       "<matplotlib.figure.Figure at 0x5a1bcea710>"
      ]
     },
     "metadata": {},
     "output_type": "display_data"
    }
   ],
   "source": [
    "p = np.linspace(0.1, 0.5, 5)\n",
    "precision = 0.8\n",
    "N = 2800\n",
    "n_top_x = 0.25\n",
    "CRC = 92\n",
    "ARPU = 305\n",
    "_ = plt.plot(p, efficiency_score_with_precision(N, p, n_top_x, ARPU, CRC, precision))\n",
    "_ = plt.legend()\n",
    "_ = plt.xlabel('probability')\n",
    "_ = plt.ylabel('economical_efficiency')\n",
    "_ = plt.grid()\n",
    "plt.show"
   ]
  },
  {
   "cell_type": "markdown",
   "metadata": {},
   "source": [
    "Из графика видно, что в случае если пользователь остается с вероятностью менее 40%, то модель ялвяется экономически невыгодной."
   ]
  },
  {
   "cell_type": "markdown",
   "metadata": {},
   "source": [
    "#### Оценка изменения экономического эффекта от проведения кампании по удержанию."
   ]
  },
  {
   "cell_type": "markdown",
   "metadata": {},
   "source": [
    "Возьмем оптимальные параметры согласно построенной нами модели (precision = 0.8, n_top_X = 0.25) и подсчитаем эффективность проедения компании."
   ]
  },
  {
   "cell_type": "code",
   "execution_count": 111,
   "metadata": {},
   "outputs": [
    {
     "name": "stdout",
     "output_type": "stream",
     "text": [
      "Экономический эффект от проведения компании по удержанию при оптимальных параметрах: 21000.0 руб.\n"
     ]
    }
   ],
   "source": [
    "p = 0.5\n",
    "precision = 0.8\n",
    "N = 2800\n",
    "n_top_x = 0.25\n",
    "CRC = 92\n",
    "ARPU = 305\n",
    "optimal_efficiency = efficiency_score_with_precision(N, p, n_top_x, ARPU, CRC, precision)\n",
    "print(\"Экономический эффект от проведения компании по удержанию при оптимальных параметрах: {} руб.\".format(optimal_efficiency))"
   ]
  },
  {
   "cell_type": "markdown",
   "metadata": {},
   "source": [
    "Теперь рассчитаем выгодно ли увеличение качества модели.\n",
    "Введем параметр стоимости увеличения качества модели (improvecost) и коэффициент улучшения качеста модели (addcoef). В результате получится следующая формула для подсчета качества модели:\n",
    "$$Efficiency = N \\cdot (precision + addcoef) \\cdot n_{top_X} \\cdot  ARPU\\cdot p - CRC \\cdot n_{top_X} \\cdot N - improvecost$$"
   ]
  },
  {
   "cell_type": "code",
   "execution_count": 112,
   "metadata": {
    "collapsed": true
   },
   "outputs": [],
   "source": [
    "def improve_efficiency_score_with_precision (N, p, n_top_x, ARPU, CRC, precision, improvecost, addcoef):\n",
    "    return (N * ARPU * (precision + addcoef) * p * n_top_x) - (N * CRC * n_top_x) - improvecost"
   ]
  },
  {
   "cell_type": "markdown",
   "metadata": {},
   "source": [
    "#### Оценим экономический эффект при улучшении качества модели на 1%."
   ]
  },
  {
   "cell_type": "markdown",
   "metadata": {},
   "source": [
    "Стоимость увеличения качества модели на 1% сделаем для примера равной 1000 рублей."
   ]
  },
  {
   "cell_type": "code",
   "execution_count": 117,
   "metadata": {},
   "outputs": [
    {
     "name": "stdout",
     "output_type": "stream",
     "text": [
      "Экономический эффект от проведения компании по удержанию при увеличении точности на 1%: 21067.5 руб.\n"
     ]
    }
   ],
   "source": [
    "p = 0.5\n",
    "addcoef = 0.01\n",
    "improvecost = 1000\n",
    "precision = 0.8\n",
    "N = 2800\n",
    "n_top_x = 0.25\n",
    "CRC = 92\n",
    "ARPU = 305\n",
    "add_one_percent_efficiency = improve_efficiency_score_with_precision(N, p, n_top_x, ARPU, CRC, precision, improvecost, addcoef)\n",
    "print(\"Экономический эффект от проведения компании по удержанию при увеличении точности на 1%: {} руб.\".format(add_one_percent_efficiency))"
   ]
  },
  {
   "cell_type": "code",
   "execution_count": 118,
   "metadata": {},
   "outputs": [
    {
     "name": "stdout",
     "output_type": "stream",
     "text": [
      "Улучшение точности модели на 1% дало следующий экономический эффект: 67.5 руб.\n"
     ]
    }
   ],
   "source": [
    "print('Улучшение точности модели на 1% дало следующий экономический эффект: {} руб.'.format(add_one_percent_efficiency - optimal_efficiency))"
   ]
  },
  {
   "cell_type": "markdown",
   "metadata": {},
   "source": [
    "В целом при большом количестве абонентов будет заметно увеличение прибыли при увеличении качества модели на 1%."
   ]
  },
  {
   "cell_type": "markdown",
   "metadata": {},
   "source": [
    "#### Оценим экономический эффект при улучшении качества модели на 3%."
   ]
  },
  {
   "cell_type": "markdown",
   "metadata": {},
   "source": [
    "На этот раз стоимость увеличения качества модели на 3% будет равна 3000 рублям."
   ]
  },
  {
   "cell_type": "code",
   "execution_count": 120,
   "metadata": {},
   "outputs": [
    {
     "name": "stdout",
     "output_type": "stream",
     "text": [
      "Экономический эффект от проведения компании по удержанию при увеличении точности на 3%: 21202.500000000015 руб.\n"
     ]
    }
   ],
   "source": [
    "p = 0.5\n",
    "addcoef = 0.03\n",
    "improvecost = 3000\n",
    "precision = 0.8\n",
    "N = 2800\n",
    "n_top_x = 0.25\n",
    "CRC = 92\n",
    "ARPU = 305\n",
    "add_three_percent_efficiency = improve_efficiency_score_with_precision(N, p, n_top_x, ARPU, CRC, precision, improvecost, addcoef)\n",
    "print(\"Экономический эффект от проведения компании по удержанию при увеличении точности на 3%: {} руб.\".format(add_three_percent_efficiency))"
   ]
  },
  {
   "cell_type": "code",
   "execution_count": 121,
   "metadata": {},
   "outputs": [
    {
     "name": "stdout",
     "output_type": "stream",
     "text": [
      "Улучшение точности модели на 3% дало следующий экономический эффект: 202.50000000001455 руб.\n"
     ]
    }
   ],
   "source": [
    "print('Улучшение точности модели на 3% дало следующий экономический эффект: {} руб.'.format(add_three_percent_efficiency - optimal_efficiency))"
   ]
  },
  {
   "cell_type": "markdown",
   "metadata": {},
   "source": [
    "Заметен рост прибыли при увеличении качества модели на 3%."
   ]
  },
  {
   "cell_type": "markdown",
   "metadata": {},
   "source": [
    "В качестве эксперимента посчитаем экономический эффект при увеличении качества модели, при условии, что в удержании участвуют всего top10% пользователей. Улучшать качество модели будем также на 1 и 3%. Затраты на повышение точности модели остаются прежними."
   ]
  },
  {
   "cell_type": "code",
   "execution_count": 122,
   "metadata": {},
   "outputs": [
    {
     "name": "stdout",
     "output_type": "stream",
     "text": [
      "Экономический эффект от проведения компании по удержанию при увеличении точности на 3%: 7827.0 руб.\n",
      "Улучшение точности модели на 3% при 10% пользователей дало следующий экономический эффект: -13173.0 руб.\n",
      "Экономический эффект от проведения компании по удержанию при увеличении точности на 3%: 6681.000000000007 руб.\n",
      "Улучшение точности модели на 3% при 10% пользователей дало следующий экономический эффект: -14318.999999999993 руб.\n"
     ]
    }
   ],
   "source": [
    "p = 0.5\n",
    "addcoef_3 = 0.03\n",
    "addcoef_1 = 0.01\n",
    "improvecost_3 = 3000\n",
    "improvecost_1 = 1000\n",
    "precision = 0.8\n",
    "N = 2800\n",
    "n_top_x = 0.1\n",
    "CRC = 92\n",
    "ARPU = 305\n",
    "add_one_percent_efficiency_top_10 = improve_efficiency_score_with_precision(N, p, n_top_x, ARPU, CRC, precision, improvecost_1, addcoef_1)\n",
    "print(\"Экономический эффект от проведения компании по удержанию при увеличении точности на 3%: {} руб.\".format(add_one_percent_efficiency_top_10))\n",
    "print('Улучшение точности модели на 3% при 10% пользователей дало следующий экономический эффект: {} руб.'.format(add_one_percent_efficiency_top_10 - optimal_efficiency))\n",
    "add_three_percent_efficiency_top_10 = improve_efficiency_score_with_precision(N, p, n_top_x, ARPU, CRC, precision, improvecost_3, addcoef_3)\n",
    "print(\"Экономический эффект от проведения компании по удержанию при увеличении точности на 3%: {} руб.\".format(add_three_percent_efficiency_top_10))\n",
    "print('Улучшение точности модели на 3% при 10% пользователей дало следующий экономический эффект: {} руб.'.format(add_three_percent_efficiency_top_10 - optimal_efficiency))"
   ]
  },
  {
   "cell_type": "markdown",
   "metadata": {},
   "source": [
    "#### Является ли экономически оправданным вложение средств в улучшение качества модели?"
   ]
  },
  {
   "cell_type": "markdown",
   "metadata": {},
   "source": [
    "Из результатов видно, что для топ10% пользователей и соответствующей ей точности увеличивать качество модели экономически невыгодно.\n",
    "Для топ25% увеличение качества модели является экономически оправданным и можно получить дополнительную прибыль."
   ]
  },
  {
   "cell_type": "markdown",
   "metadata": {},
   "source": [
    "Считая, что пользователи примут наше предложение всего лишь с\n",
    "вероятностью 50% и применяя методики удержания с бюджетом 92 рубля на человека  к top 25%  от числа пользователей склонных к оттоку (всего к оттоку склонно 2800 пользователей из наших данных) можем получить дополнительную прибыль порядка 15 тыс рублей (с учетом, что в модели участвовали данные только по 40 тысячам абонентов)!"
   ]
  },
  {
   "cell_type": "markdown",
   "metadata": {},
   "source": [
    "## 6. Итоги."
   ]
  },
  {
   "cell_type": "markdown",
   "metadata": {},
   "source": [
    "Результатом проделанной работы является обученная на подготовленных данных модель XGBClassifier, готовая к практическому применению. Также была проделана работа по оценке качества и экономического эффекта от применения."
   ]
  },
  {
   "cell_type": "markdown",
   "metadata": {},
   "source": [
    "### Улучшение модели"
   ]
  },
  {
   "cell_type": "markdown",
   "metadata": {},
   "source": [
    "Для улучшения модели можно добавить еще данных по абонентам, чтобы модель смогла найти больше закономероностей  в данных.\n",
    "Но оптимальным вариантом будет использование ансамбля из моделей, а также построение  дополнительных признаков на основе самых информативных."
   ]
  },
  {
   "cell_type": "markdown",
   "metadata": {},
   "source": [
    "### Внедрение модели"
   ]
  },
  {
   "cell_type": "markdown",
   "metadata": {},
   "source": [
    "Для внедренния модели необходимо произвести автматизацию процесса предобработки данных согласно алгоритму."
   ]
  },
  {
   "cell_type": "markdown",
   "metadata": {},
   "source": [
    "### Тестирование модели"
   ]
  },
  {
   "cell_type": "markdown",
   "metadata": {},
   "source": [
    "Для оценки реального экномического эффекта необходимо тестировать получившуюся модель на группе пользователей (АБ - тестирование)."
   ]
  }
 ],
 "metadata": {
  "kernelspec": {
   "display_name": "Python 3",
   "language": "python",
   "name": "python3"
  },
  "language_info": {
   "codemirror_mode": {
    "name": "ipython",
    "version": 3
   },
   "file_extension": ".py",
   "mimetype": "text/x-python",
   "name": "python",
   "nbconvert_exporter": "python",
   "pygments_lexer": "ipython3",
   "version": "3.6.1"
  }
 },
 "nbformat": 4,
 "nbformat_minor": 1
}
